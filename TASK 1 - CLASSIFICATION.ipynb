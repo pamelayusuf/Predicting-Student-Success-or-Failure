{
 "cells": [
  {
   "cell_type": "markdown",
   "id": "c2e39e3e",
   "metadata": {},
   "source": [
    "## Loading the Data"
   ]
  },
  {
   "cell_type": "code",
   "execution_count": 4,
   "id": "3a42ca28",
   "metadata": {},
   "outputs": [],
   "source": [
    "# Importing the necessary libraries\n",
    "import pandas as pd\n",
    "import numpy as np\n",
    "import matplotlib.pyplot as plt\n",
    "import seaborn as sns\n",
    "import tensorflow as tf\n",
    "%matplotlib inline"
   ]
  },
  {
   "cell_type": "code",
   "execution_count": 5,
   "id": "acd0907a",
   "metadata": {},
   "outputs": [],
   "source": [
    "from sklearn.preprocessing import OrdinalEncoder\n",
    "from sklearn.preprocessing import OneHotEncoder\n",
    "from sklearn.model_selection import train_test_split\n",
    "from sklearn.preprocessing import StandardScaler\n",
    "from sklearn.feature_selection import RFECV\n",
    "from sklearn.linear_model import LogisticRegression\n",
    "from keras.models import Sequential\n",
    "from keras.layers import Dense\n",
    "from sklearn.metrics import classification_report,confusion_matrix, roc_auc_score, roc_curve\n",
    "from sklearn import metrics"
   ]
  },
  {
   "cell_type": "code",
   "execution_count": 6,
   "id": "171c4d05",
   "metadata": {},
   "outputs": [],
   "source": [
    "student_demographics = pd.read_csv('studentInfo.csv')"
   ]
  },
  {
   "cell_type": "code",
   "execution_count": 7,
   "id": "d5b36461",
   "metadata": {},
   "outputs": [
    {
     "data": {
      "text/html": [
       "<div>\n",
       "<style scoped>\n",
       "    .dataframe tbody tr th:only-of-type {\n",
       "        vertical-align: middle;\n",
       "    }\n",
       "\n",
       "    .dataframe tbody tr th {\n",
       "        vertical-align: top;\n",
       "    }\n",
       "\n",
       "    .dataframe thead th {\n",
       "        text-align: right;\n",
       "    }\n",
       "</style>\n",
       "<table border=\"1\" class=\"dataframe\">\n",
       "  <thead>\n",
       "    <tr style=\"text-align: right;\">\n",
       "      <th></th>\n",
       "      <th>code_module</th>\n",
       "      <th>code_presentation</th>\n",
       "      <th>id_student</th>\n",
       "      <th>gender</th>\n",
       "      <th>region</th>\n",
       "      <th>highest_education</th>\n",
       "      <th>imd_band</th>\n",
       "      <th>age_band</th>\n",
       "      <th>num_of_prev_attempts</th>\n",
       "      <th>studied_credits</th>\n",
       "      <th>disability</th>\n",
       "      <th>final_result</th>\n",
       "    </tr>\n",
       "  </thead>\n",
       "  <tbody>\n",
       "    <tr>\n",
       "      <th>0</th>\n",
       "      <td>AAA</td>\n",
       "      <td>2013J</td>\n",
       "      <td>11391</td>\n",
       "      <td>M</td>\n",
       "      <td>East Anglian Region</td>\n",
       "      <td>HE Qualification</td>\n",
       "      <td>90-100%</td>\n",
       "      <td>55&lt;=</td>\n",
       "      <td>0</td>\n",
       "      <td>240</td>\n",
       "      <td>N</td>\n",
       "      <td>Pass</td>\n",
       "    </tr>\n",
       "    <tr>\n",
       "      <th>1</th>\n",
       "      <td>AAA</td>\n",
       "      <td>2013J</td>\n",
       "      <td>28400</td>\n",
       "      <td>F</td>\n",
       "      <td>Scotland</td>\n",
       "      <td>HE Qualification</td>\n",
       "      <td>20-30%</td>\n",
       "      <td>35-55</td>\n",
       "      <td>0</td>\n",
       "      <td>60</td>\n",
       "      <td>N</td>\n",
       "      <td>Pass</td>\n",
       "    </tr>\n",
       "    <tr>\n",
       "      <th>2</th>\n",
       "      <td>AAA</td>\n",
       "      <td>2013J</td>\n",
       "      <td>30268</td>\n",
       "      <td>F</td>\n",
       "      <td>North Western Region</td>\n",
       "      <td>A Level or Equivalent</td>\n",
       "      <td>30-40%</td>\n",
       "      <td>35-55</td>\n",
       "      <td>0</td>\n",
       "      <td>60</td>\n",
       "      <td>Y</td>\n",
       "      <td>Withdrawn</td>\n",
       "    </tr>\n",
       "    <tr>\n",
       "      <th>3</th>\n",
       "      <td>AAA</td>\n",
       "      <td>2013J</td>\n",
       "      <td>31604</td>\n",
       "      <td>F</td>\n",
       "      <td>South East Region</td>\n",
       "      <td>A Level or Equivalent</td>\n",
       "      <td>50-60%</td>\n",
       "      <td>35-55</td>\n",
       "      <td>0</td>\n",
       "      <td>60</td>\n",
       "      <td>N</td>\n",
       "      <td>Pass</td>\n",
       "    </tr>\n",
       "    <tr>\n",
       "      <th>4</th>\n",
       "      <td>AAA</td>\n",
       "      <td>2013J</td>\n",
       "      <td>32885</td>\n",
       "      <td>F</td>\n",
       "      <td>West Midlands Region</td>\n",
       "      <td>Lower Than A Level</td>\n",
       "      <td>50-60%</td>\n",
       "      <td>0-35</td>\n",
       "      <td>0</td>\n",
       "      <td>60</td>\n",
       "      <td>N</td>\n",
       "      <td>Pass</td>\n",
       "    </tr>\n",
       "  </tbody>\n",
       "</table>\n",
       "</div>"
      ],
      "text/plain": [
       "  code_module code_presentation  id_student gender                region  \\\n",
       "0         AAA             2013J       11391      M   East Anglian Region   \n",
       "1         AAA             2013J       28400      F              Scotland   \n",
       "2         AAA             2013J       30268      F  North Western Region   \n",
       "3         AAA             2013J       31604      F     South East Region   \n",
       "4         AAA             2013J       32885      F  West Midlands Region   \n",
       "\n",
       "       highest_education imd_band age_band  num_of_prev_attempts  \\\n",
       "0       HE Qualification  90-100%     55<=                     0   \n",
       "1       HE Qualification   20-30%    35-55                     0   \n",
       "2  A Level or Equivalent   30-40%    35-55                     0   \n",
       "3  A Level or Equivalent   50-60%    35-55                     0   \n",
       "4     Lower Than A Level   50-60%     0-35                     0   \n",
       "\n",
       "   studied_credits disability final_result  \n",
       "0              240          N         Pass  \n",
       "1               60          N         Pass  \n",
       "2               60          Y    Withdrawn  \n",
       "3               60          N         Pass  \n",
       "4               60          N         Pass  "
      ]
     },
     "execution_count": 7,
     "metadata": {},
     "output_type": "execute_result"
    }
   ],
   "source": [
    "student_demographics.head()"
   ]
  },
  {
   "cell_type": "code",
   "execution_count": 8,
   "id": "7419be57",
   "metadata": {},
   "outputs": [
    {
     "name": "stdout",
     "output_type": "stream",
     "text": [
      "<class 'pandas.core.frame.DataFrame'>\n",
      "RangeIndex: 32593 entries, 0 to 32592\n",
      "Data columns (total 12 columns):\n",
      " #   Column                Non-Null Count  Dtype \n",
      "---  ------                --------------  ----- \n",
      " 0   code_module           32593 non-null  object\n",
      " 1   code_presentation     32593 non-null  object\n",
      " 2   id_student            32593 non-null  int64 \n",
      " 3   gender                32593 non-null  object\n",
      " 4   region                32593 non-null  object\n",
      " 5   highest_education     32593 non-null  object\n",
      " 6   imd_band              31482 non-null  object\n",
      " 7   age_band              32593 non-null  object\n",
      " 8   num_of_prev_attempts  32593 non-null  int64 \n",
      " 9   studied_credits       32593 non-null  int64 \n",
      " 10  disability            32593 non-null  object\n",
      " 11  final_result          32593 non-null  object\n",
      "dtypes: int64(3), object(9)\n",
      "memory usage: 3.0+ MB\n"
     ]
    }
   ],
   "source": [
    "student_demographics.info()"
   ]
  },
  {
   "cell_type": "code",
   "execution_count": 9,
   "id": "0a1b4c4d",
   "metadata": {},
   "outputs": [],
   "source": [
    "student_interaction = pd.read_csv('studentVle.csv')"
   ]
  },
  {
   "cell_type": "code",
   "execution_count": 10,
   "id": "3ff67ea6",
   "metadata": {},
   "outputs": [
    {
     "data": {
      "text/html": [
       "<div>\n",
       "<style scoped>\n",
       "    .dataframe tbody tr th:only-of-type {\n",
       "        vertical-align: middle;\n",
       "    }\n",
       "\n",
       "    .dataframe tbody tr th {\n",
       "        vertical-align: top;\n",
       "    }\n",
       "\n",
       "    .dataframe thead th {\n",
       "        text-align: right;\n",
       "    }\n",
       "</style>\n",
       "<table border=\"1\" class=\"dataframe\">\n",
       "  <thead>\n",
       "    <tr style=\"text-align: right;\">\n",
       "      <th></th>\n",
       "      <th>code_module</th>\n",
       "      <th>code_presentation</th>\n",
       "      <th>id_student</th>\n",
       "      <th>id_site</th>\n",
       "      <th>date</th>\n",
       "      <th>sum_click</th>\n",
       "    </tr>\n",
       "  </thead>\n",
       "  <tbody>\n",
       "    <tr>\n",
       "      <th>0</th>\n",
       "      <td>AAA</td>\n",
       "      <td>2013J</td>\n",
       "      <td>28400</td>\n",
       "      <td>546652</td>\n",
       "      <td>-10</td>\n",
       "      <td>4</td>\n",
       "    </tr>\n",
       "    <tr>\n",
       "      <th>1</th>\n",
       "      <td>AAA</td>\n",
       "      <td>2013J</td>\n",
       "      <td>28400</td>\n",
       "      <td>546652</td>\n",
       "      <td>-10</td>\n",
       "      <td>1</td>\n",
       "    </tr>\n",
       "    <tr>\n",
       "      <th>2</th>\n",
       "      <td>AAA</td>\n",
       "      <td>2013J</td>\n",
       "      <td>28400</td>\n",
       "      <td>546652</td>\n",
       "      <td>-10</td>\n",
       "      <td>1</td>\n",
       "    </tr>\n",
       "    <tr>\n",
       "      <th>3</th>\n",
       "      <td>AAA</td>\n",
       "      <td>2013J</td>\n",
       "      <td>28400</td>\n",
       "      <td>546614</td>\n",
       "      <td>-10</td>\n",
       "      <td>11</td>\n",
       "    </tr>\n",
       "    <tr>\n",
       "      <th>4</th>\n",
       "      <td>AAA</td>\n",
       "      <td>2013J</td>\n",
       "      <td>28400</td>\n",
       "      <td>546714</td>\n",
       "      <td>-10</td>\n",
       "      <td>1</td>\n",
       "    </tr>\n",
       "  </tbody>\n",
       "</table>\n",
       "</div>"
      ],
      "text/plain": [
       "  code_module code_presentation  id_student  id_site  date  sum_click\n",
       "0         AAA             2013J       28400   546652   -10          4\n",
       "1         AAA             2013J       28400   546652   -10          1\n",
       "2         AAA             2013J       28400   546652   -10          1\n",
       "3         AAA             2013J       28400   546614   -10         11\n",
       "4         AAA             2013J       28400   546714   -10          1"
      ]
     },
     "execution_count": 10,
     "metadata": {},
     "output_type": "execute_result"
    }
   ],
   "source": [
    "student_interaction.head()"
   ]
  },
  {
   "cell_type": "code",
   "execution_count": 11,
   "id": "65acdbc0",
   "metadata": {},
   "outputs": [
    {
     "name": "stdout",
     "output_type": "stream",
     "text": [
      "<class 'pandas.core.frame.DataFrame'>\n",
      "RangeIndex: 10655280 entries, 0 to 10655279\n",
      "Data columns (total 6 columns):\n",
      " #   Column             Dtype \n",
      "---  ------             ----- \n",
      " 0   code_module        object\n",
      " 1   code_presentation  object\n",
      " 2   id_student         int64 \n",
      " 3   id_site            int64 \n",
      " 4   date               int64 \n",
      " 5   sum_click          int64 \n",
      "dtypes: int64(4), object(2)\n",
      "memory usage: 487.8+ MB\n"
     ]
    }
   ],
   "source": [
    "student_interaction.info()"
   ]
  },
  {
   "cell_type": "code",
   "execution_count": 12,
   "id": "55bd0e85",
   "metadata": {},
   "outputs": [],
   "source": [
    "student_interaction.drop('id_site' , axis =1, inplace = True)"
   ]
  },
  {
   "cell_type": "code",
   "execution_count": 13,
   "id": "093e205a",
   "metadata": {},
   "outputs": [],
   "source": [
    "student_interaction = student_interaction.groupby(['id_student']).sum()"
   ]
  },
  {
   "cell_type": "code",
   "execution_count": 14,
   "id": "8c6c00e3",
   "metadata": {},
   "outputs": [
    {
     "data": {
      "text/html": [
       "<div>\n",
       "<style scoped>\n",
       "    .dataframe tbody tr th:only-of-type {\n",
       "        vertical-align: middle;\n",
       "    }\n",
       "\n",
       "    .dataframe tbody tr th {\n",
       "        vertical-align: top;\n",
       "    }\n",
       "\n",
       "    .dataframe thead th {\n",
       "        text-align: right;\n",
       "    }\n",
       "</style>\n",
       "<table border=\"1\" class=\"dataframe\">\n",
       "  <thead>\n",
       "    <tr style=\"text-align: right;\">\n",
       "      <th></th>\n",
       "      <th>date</th>\n",
       "      <th>sum_click</th>\n",
       "    </tr>\n",
       "    <tr>\n",
       "      <th>id_student</th>\n",
       "      <th></th>\n",
       "      <th></th>\n",
       "    </tr>\n",
       "  </thead>\n",
       "  <tbody>\n",
       "    <tr>\n",
       "      <th>6516</th>\n",
       "      <td>73140</td>\n",
       "      <td>2791</td>\n",
       "    </tr>\n",
       "    <tr>\n",
       "      <th>8462</th>\n",
       "      <td>11287</td>\n",
       "      <td>656</td>\n",
       "    </tr>\n",
       "    <tr>\n",
       "      <th>11391</th>\n",
       "      <td>20018</td>\n",
       "      <td>934</td>\n",
       "    </tr>\n",
       "    <tr>\n",
       "      <th>23629</th>\n",
       "      <td>2539</td>\n",
       "      <td>161</td>\n",
       "    </tr>\n",
       "    <tr>\n",
       "      <th>23698</th>\n",
       "      <td>26120</td>\n",
       "      <td>910</td>\n",
       "    </tr>\n",
       "    <tr>\n",
       "      <th>...</th>\n",
       "      <td>...</td>\n",
       "      <td>...</td>\n",
       "    </tr>\n",
       "    <tr>\n",
       "      <th>2698251</th>\n",
       "      <td>42240</td>\n",
       "      <td>1511</td>\n",
       "    </tr>\n",
       "    <tr>\n",
       "      <th>2698257</th>\n",
       "      <td>25114</td>\n",
       "      <td>758</td>\n",
       "    </tr>\n",
       "    <tr>\n",
       "      <th>2698535</th>\n",
       "      <td>63531</td>\n",
       "      <td>4241</td>\n",
       "    </tr>\n",
       "    <tr>\n",
       "      <th>2698577</th>\n",
       "      <td>21818</td>\n",
       "      <td>717</td>\n",
       "    </tr>\n",
       "    <tr>\n",
       "      <th>2698588</th>\n",
       "      <td>31587</td>\n",
       "      <td>605</td>\n",
       "    </tr>\n",
       "  </tbody>\n",
       "</table>\n",
       "<p>26074 rows × 2 columns</p>\n",
       "</div>"
      ],
      "text/plain": [
       "             date  sum_click\n",
       "id_student                  \n",
       "6516        73140       2791\n",
       "8462        11287        656\n",
       "11391       20018        934\n",
       "23629        2539        161\n",
       "23698       26120        910\n",
       "...           ...        ...\n",
       "2698251     42240       1511\n",
       "2698257     25114        758\n",
       "2698535     63531       4241\n",
       "2698577     21818        717\n",
       "2698588     31587        605\n",
       "\n",
       "[26074 rows x 2 columns]"
      ]
     },
     "execution_count": 14,
     "metadata": {},
     "output_type": "execute_result"
    }
   ],
   "source": [
    "student_interaction"
   ]
  },
  {
   "cell_type": "code",
   "execution_count": 15,
   "id": "72ba5c81",
   "metadata": {},
   "outputs": [],
   "source": [
    "student_info = pd.merge(student_interaction, student_demographics, on = 'id_student', how = 'inner')"
   ]
  },
  {
   "cell_type": "code",
   "execution_count": 16,
   "id": "91005014",
   "metadata": {},
   "outputs": [
    {
     "data": {
      "text/html": [
       "<div>\n",
       "<style scoped>\n",
       "    .dataframe tbody tr th:only-of-type {\n",
       "        vertical-align: middle;\n",
       "    }\n",
       "\n",
       "    .dataframe tbody tr th {\n",
       "        vertical-align: top;\n",
       "    }\n",
       "\n",
       "    .dataframe thead th {\n",
       "        text-align: right;\n",
       "    }\n",
       "</style>\n",
       "<table border=\"1\" class=\"dataframe\">\n",
       "  <thead>\n",
       "    <tr style=\"text-align: right;\">\n",
       "      <th></th>\n",
       "      <th>id_student</th>\n",
       "      <th>date</th>\n",
       "      <th>sum_click</th>\n",
       "      <th>code_module</th>\n",
       "      <th>code_presentation</th>\n",
       "      <th>gender</th>\n",
       "      <th>region</th>\n",
       "      <th>highest_education</th>\n",
       "      <th>imd_band</th>\n",
       "      <th>age_band</th>\n",
       "      <th>num_of_prev_attempts</th>\n",
       "      <th>studied_credits</th>\n",
       "      <th>disability</th>\n",
       "      <th>final_result</th>\n",
       "    </tr>\n",
       "  </thead>\n",
       "  <tbody>\n",
       "    <tr>\n",
       "      <th>0</th>\n",
       "      <td>6516</td>\n",
       "      <td>73140</td>\n",
       "      <td>2791</td>\n",
       "      <td>AAA</td>\n",
       "      <td>2014J</td>\n",
       "      <td>M</td>\n",
       "      <td>Scotland</td>\n",
       "      <td>HE Qualification</td>\n",
       "      <td>80-90%</td>\n",
       "      <td>55&lt;=</td>\n",
       "      <td>0</td>\n",
       "      <td>60</td>\n",
       "      <td>N</td>\n",
       "      <td>Pass</td>\n",
       "    </tr>\n",
       "    <tr>\n",
       "      <th>1</th>\n",
       "      <td>8462</td>\n",
       "      <td>11287</td>\n",
       "      <td>656</td>\n",
       "      <td>DDD</td>\n",
       "      <td>2013J</td>\n",
       "      <td>M</td>\n",
       "      <td>London Region</td>\n",
       "      <td>HE Qualification</td>\n",
       "      <td>30-40%</td>\n",
       "      <td>55&lt;=</td>\n",
       "      <td>0</td>\n",
       "      <td>90</td>\n",
       "      <td>N</td>\n",
       "      <td>Withdrawn</td>\n",
       "    </tr>\n",
       "    <tr>\n",
       "      <th>2</th>\n",
       "      <td>8462</td>\n",
       "      <td>11287</td>\n",
       "      <td>656</td>\n",
       "      <td>DDD</td>\n",
       "      <td>2014J</td>\n",
       "      <td>M</td>\n",
       "      <td>London Region</td>\n",
       "      <td>HE Qualification</td>\n",
       "      <td>30-40%</td>\n",
       "      <td>55&lt;=</td>\n",
       "      <td>1</td>\n",
       "      <td>60</td>\n",
       "      <td>N</td>\n",
       "      <td>Withdrawn</td>\n",
       "    </tr>\n",
       "    <tr>\n",
       "      <th>3</th>\n",
       "      <td>11391</td>\n",
       "      <td>20018</td>\n",
       "      <td>934</td>\n",
       "      <td>AAA</td>\n",
       "      <td>2013J</td>\n",
       "      <td>M</td>\n",
       "      <td>East Anglian Region</td>\n",
       "      <td>HE Qualification</td>\n",
       "      <td>90-100%</td>\n",
       "      <td>55&lt;=</td>\n",
       "      <td>0</td>\n",
       "      <td>240</td>\n",
       "      <td>N</td>\n",
       "      <td>Pass</td>\n",
       "    </tr>\n",
       "    <tr>\n",
       "      <th>4</th>\n",
       "      <td>23629</td>\n",
       "      <td>2539</td>\n",
       "      <td>161</td>\n",
       "      <td>BBB</td>\n",
       "      <td>2013B</td>\n",
       "      <td>F</td>\n",
       "      <td>East Anglian Region</td>\n",
       "      <td>Lower Than A Level</td>\n",
       "      <td>20-30%</td>\n",
       "      <td>0-35</td>\n",
       "      <td>2</td>\n",
       "      <td>60</td>\n",
       "      <td>N</td>\n",
       "      <td>Fail</td>\n",
       "    </tr>\n",
       "  </tbody>\n",
       "</table>\n",
       "</div>"
      ],
      "text/plain": [
       "   id_student   date  sum_click code_module code_presentation gender  \\\n",
       "0        6516  73140       2791         AAA             2014J      M   \n",
       "1        8462  11287        656         DDD             2013J      M   \n",
       "2        8462  11287        656         DDD             2014J      M   \n",
       "3       11391  20018        934         AAA             2013J      M   \n",
       "4       23629   2539        161         BBB             2013B      F   \n",
       "\n",
       "                region   highest_education imd_band age_band  \\\n",
       "0             Scotland    HE Qualification   80-90%     55<=   \n",
       "1        London Region    HE Qualification   30-40%     55<=   \n",
       "2        London Region    HE Qualification   30-40%     55<=   \n",
       "3  East Anglian Region    HE Qualification  90-100%     55<=   \n",
       "4  East Anglian Region  Lower Than A Level   20-30%     0-35   \n",
       "\n",
       "   num_of_prev_attempts  studied_credits disability final_result  \n",
       "0                     0               60          N         Pass  \n",
       "1                     0               90          N    Withdrawn  \n",
       "2                     1               60          N    Withdrawn  \n",
       "3                     0              240          N         Pass  \n",
       "4                     2               60          N         Fail  "
      ]
     },
     "execution_count": 16,
     "metadata": {},
     "output_type": "execute_result"
    }
   ],
   "source": [
    "student_info.head()"
   ]
  },
  {
   "cell_type": "code",
   "execution_count": 17,
   "id": "d6b1a6d5",
   "metadata": {},
   "outputs": [
    {
     "data": {
      "text/plain": [
       "Pass           12358\n",
       "Withdrawn       7640\n",
       "Fail            6719\n",
       "Distinction     3024\n",
       "Name: final_result, dtype: int64"
      ]
     },
     "execution_count": 17,
     "metadata": {},
     "output_type": "execute_result"
    }
   ],
   "source": [
    "#Exploring the target variable column\n",
    "student_info['final_result'].value_counts()"
   ]
  },
  {
   "cell_type": "code",
   "execution_count": 18,
   "id": "0e0acf27",
   "metadata": {},
   "outputs": [],
   "source": [
    "#Removing student records who unregistered from the course\n",
    "student_info.drop(student_info[student_info['final_result'] == 'Withdrawn'].index, inplace = True)"
   ]
  },
  {
   "cell_type": "code",
   "execution_count": 19,
   "id": "0c8a7fd2",
   "metadata": {},
   "outputs": [],
   "source": [
    "#Converting target variable column for analysis\n",
    "def result_converter(result):\n",
    "    if result == 'Pass' or result == 'Distinction':\n",
    "        return 1\n",
    "    else:\n",
    "        return 0"
   ]
  },
  {
   "cell_type": "code",
   "execution_count": 20,
   "id": "d7e0d192",
   "metadata": {},
   "outputs": [],
   "source": [
    "student_info['final_result'] = student_info['final_result'].apply(result_converter)"
   ]
  },
  {
   "cell_type": "code",
   "execution_count": 21,
   "id": "3a4bd439",
   "metadata": {},
   "outputs": [
    {
     "data": {
      "text/html": [
       "<div>\n",
       "<style scoped>\n",
       "    .dataframe tbody tr th:only-of-type {\n",
       "        vertical-align: middle;\n",
       "    }\n",
       "\n",
       "    .dataframe tbody tr th {\n",
       "        vertical-align: top;\n",
       "    }\n",
       "\n",
       "    .dataframe thead th {\n",
       "        text-align: right;\n",
       "    }\n",
       "</style>\n",
       "<table border=\"1\" class=\"dataframe\">\n",
       "  <thead>\n",
       "    <tr style=\"text-align: right;\">\n",
       "      <th></th>\n",
       "      <th>id_student</th>\n",
       "      <th>date</th>\n",
       "      <th>sum_click</th>\n",
       "      <th>code_module</th>\n",
       "      <th>code_presentation</th>\n",
       "      <th>gender</th>\n",
       "      <th>region</th>\n",
       "      <th>highest_education</th>\n",
       "      <th>imd_band</th>\n",
       "      <th>age_band</th>\n",
       "      <th>num_of_prev_attempts</th>\n",
       "      <th>studied_credits</th>\n",
       "      <th>disability</th>\n",
       "      <th>final_result</th>\n",
       "    </tr>\n",
       "  </thead>\n",
       "  <tbody>\n",
       "    <tr>\n",
       "      <th>0</th>\n",
       "      <td>6516</td>\n",
       "      <td>73140</td>\n",
       "      <td>2791</td>\n",
       "      <td>AAA</td>\n",
       "      <td>2014J</td>\n",
       "      <td>M</td>\n",
       "      <td>Scotland</td>\n",
       "      <td>HE Qualification</td>\n",
       "      <td>80-90%</td>\n",
       "      <td>55&lt;=</td>\n",
       "      <td>0</td>\n",
       "      <td>60</td>\n",
       "      <td>N</td>\n",
       "      <td>1</td>\n",
       "    </tr>\n",
       "    <tr>\n",
       "      <th>3</th>\n",
       "      <td>11391</td>\n",
       "      <td>20018</td>\n",
       "      <td>934</td>\n",
       "      <td>AAA</td>\n",
       "      <td>2013J</td>\n",
       "      <td>M</td>\n",
       "      <td>East Anglian Region</td>\n",
       "      <td>HE Qualification</td>\n",
       "      <td>90-100%</td>\n",
       "      <td>55&lt;=</td>\n",
       "      <td>0</td>\n",
       "      <td>240</td>\n",
       "      <td>N</td>\n",
       "      <td>1</td>\n",
       "    </tr>\n",
       "    <tr>\n",
       "      <th>4</th>\n",
       "      <td>23629</td>\n",
       "      <td>2539</td>\n",
       "      <td>161</td>\n",
       "      <td>BBB</td>\n",
       "      <td>2013B</td>\n",
       "      <td>F</td>\n",
       "      <td>East Anglian Region</td>\n",
       "      <td>Lower Than A Level</td>\n",
       "      <td>20-30%</td>\n",
       "      <td>0-35</td>\n",
       "      <td>2</td>\n",
       "      <td>60</td>\n",
       "      <td>N</td>\n",
       "      <td>0</td>\n",
       "    </tr>\n",
       "    <tr>\n",
       "      <th>5</th>\n",
       "      <td>23698</td>\n",
       "      <td>26120</td>\n",
       "      <td>910</td>\n",
       "      <td>CCC</td>\n",
       "      <td>2014J</td>\n",
       "      <td>F</td>\n",
       "      <td>East Anglian Region</td>\n",
       "      <td>A Level or Equivalent</td>\n",
       "      <td>50-60%</td>\n",
       "      <td>0-35</td>\n",
       "      <td>0</td>\n",
       "      <td>120</td>\n",
       "      <td>N</td>\n",
       "      <td>1</td>\n",
       "    </tr>\n",
       "    <tr>\n",
       "      <th>6</th>\n",
       "      <td>23798</td>\n",
       "      <td>33601</td>\n",
       "      <td>590</td>\n",
       "      <td>BBB</td>\n",
       "      <td>2013J</td>\n",
       "      <td>M</td>\n",
       "      <td>Wales</td>\n",
       "      <td>A Level or Equivalent</td>\n",
       "      <td>50-60%</td>\n",
       "      <td>0-35</td>\n",
       "      <td>0</td>\n",
       "      <td>60</td>\n",
       "      <td>N</td>\n",
       "      <td>1</td>\n",
       "    </tr>\n",
       "    <tr>\n",
       "      <th>...</th>\n",
       "      <td>...</td>\n",
       "      <td>...</td>\n",
       "      <td>...</td>\n",
       "      <td>...</td>\n",
       "      <td>...</td>\n",
       "      <td>...</td>\n",
       "      <td>...</td>\n",
       "      <td>...</td>\n",
       "      <td>...</td>\n",
       "      <td>...</td>\n",
       "      <td>...</td>\n",
       "      <td>...</td>\n",
       "      <td>...</td>\n",
       "      <td>...</td>\n",
       "    </tr>\n",
       "    <tr>\n",
       "      <th>29735</th>\n",
       "      <td>2698251</td>\n",
       "      <td>42240</td>\n",
       "      <td>1511</td>\n",
       "      <td>DDD</td>\n",
       "      <td>2014B</td>\n",
       "      <td>F</td>\n",
       "      <td>South West Region</td>\n",
       "      <td>A Level or Equivalent</td>\n",
       "      <td>50-60%</td>\n",
       "      <td>0-35</td>\n",
       "      <td>0</td>\n",
       "      <td>60</td>\n",
       "      <td>N</td>\n",
       "      <td>0</td>\n",
       "    </tr>\n",
       "    <tr>\n",
       "      <th>29736</th>\n",
       "      <td>2698257</td>\n",
       "      <td>25114</td>\n",
       "      <td>758</td>\n",
       "      <td>AAA</td>\n",
       "      <td>2013J</td>\n",
       "      <td>M</td>\n",
       "      <td>East Midlands Region</td>\n",
       "      <td>Lower Than A Level</td>\n",
       "      <td>60-70%</td>\n",
       "      <td>0-35</td>\n",
       "      <td>0</td>\n",
       "      <td>120</td>\n",
       "      <td>N</td>\n",
       "      <td>1</td>\n",
       "    </tr>\n",
       "    <tr>\n",
       "      <th>29738</th>\n",
       "      <td>2698535</td>\n",
       "      <td>63531</td>\n",
       "      <td>4241</td>\n",
       "      <td>EEE</td>\n",
       "      <td>2013J</td>\n",
       "      <td>M</td>\n",
       "      <td>Wales</td>\n",
       "      <td>Lower Than A Level</td>\n",
       "      <td>50-60%</td>\n",
       "      <td>0-35</td>\n",
       "      <td>0</td>\n",
       "      <td>60</td>\n",
       "      <td>N</td>\n",
       "      <td>1</td>\n",
       "    </tr>\n",
       "    <tr>\n",
       "      <th>29739</th>\n",
       "      <td>2698577</td>\n",
       "      <td>21818</td>\n",
       "      <td>717</td>\n",
       "      <td>BBB</td>\n",
       "      <td>2014J</td>\n",
       "      <td>F</td>\n",
       "      <td>Wales</td>\n",
       "      <td>Lower Than A Level</td>\n",
       "      <td>50-60%</td>\n",
       "      <td>35-55</td>\n",
       "      <td>0</td>\n",
       "      <td>60</td>\n",
       "      <td>N</td>\n",
       "      <td>0</td>\n",
       "    </tr>\n",
       "    <tr>\n",
       "      <th>29740</th>\n",
       "      <td>2698588</td>\n",
       "      <td>31587</td>\n",
       "      <td>605</td>\n",
       "      <td>BBB</td>\n",
       "      <td>2014J</td>\n",
       "      <td>F</td>\n",
       "      <td>Yorkshire Region</td>\n",
       "      <td>HE Qualification</td>\n",
       "      <td>30-40%</td>\n",
       "      <td>0-35</td>\n",
       "      <td>0</td>\n",
       "      <td>120</td>\n",
       "      <td>N</td>\n",
       "      <td>1</td>\n",
       "    </tr>\n",
       "  </tbody>\n",
       "</table>\n",
       "<p>22101 rows × 14 columns</p>\n",
       "</div>"
      ],
      "text/plain": [
       "       id_student   date  sum_click code_module code_presentation gender  \\\n",
       "0            6516  73140       2791         AAA             2014J      M   \n",
       "3           11391  20018        934         AAA             2013J      M   \n",
       "4           23629   2539        161         BBB             2013B      F   \n",
       "5           23698  26120        910         CCC             2014J      F   \n",
       "6           23798  33601        590         BBB             2013J      M   \n",
       "...           ...    ...        ...         ...               ...    ...   \n",
       "29735     2698251  42240       1511         DDD             2014B      F   \n",
       "29736     2698257  25114        758         AAA             2013J      M   \n",
       "29738     2698535  63531       4241         EEE             2013J      M   \n",
       "29739     2698577  21818        717         BBB             2014J      F   \n",
       "29740     2698588  31587        605         BBB             2014J      F   \n",
       "\n",
       "                     region      highest_education imd_band age_band  \\\n",
       "0                  Scotland       HE Qualification   80-90%     55<=   \n",
       "3       East Anglian Region       HE Qualification  90-100%     55<=   \n",
       "4       East Anglian Region     Lower Than A Level   20-30%     0-35   \n",
       "5       East Anglian Region  A Level or Equivalent   50-60%     0-35   \n",
       "6                     Wales  A Level or Equivalent   50-60%     0-35   \n",
       "...                     ...                    ...      ...      ...   \n",
       "29735     South West Region  A Level or Equivalent   50-60%     0-35   \n",
       "29736  East Midlands Region     Lower Than A Level   60-70%     0-35   \n",
       "29738                 Wales     Lower Than A Level   50-60%     0-35   \n",
       "29739                 Wales     Lower Than A Level   50-60%    35-55   \n",
       "29740      Yorkshire Region       HE Qualification   30-40%     0-35   \n",
       "\n",
       "       num_of_prev_attempts  studied_credits disability  final_result  \n",
       "0                         0               60          N             1  \n",
       "3                         0              240          N             1  \n",
       "4                         2               60          N             0  \n",
       "5                         0              120          N             1  \n",
       "6                         0               60          N             1  \n",
       "...                     ...              ...        ...           ...  \n",
       "29735                     0               60          N             0  \n",
       "29736                     0              120          N             1  \n",
       "29738                     0               60          N             1  \n",
       "29739                     0               60          N             0  \n",
       "29740                     0              120          N             1  \n",
       "\n",
       "[22101 rows x 14 columns]"
      ]
     },
     "execution_count": 21,
     "metadata": {},
     "output_type": "execute_result"
    }
   ],
   "source": [
    "student_info"
   ]
  },
  {
   "cell_type": "code",
   "execution_count": 22,
   "id": "03ea049a",
   "metadata": {},
   "outputs": [],
   "source": [
    "student_info.drop('id_student', axis = 1, inplace = True)"
   ]
  },
  {
   "cell_type": "code",
   "execution_count": 23,
   "id": "36b3a1c1",
   "metadata": {},
   "outputs": [],
   "source": [
    "#student_info.to_csv('StudentInformation.csv',  index=False)"
   ]
  },
  {
   "cell_type": "markdown",
   "id": "365e2050",
   "metadata": {},
   "source": [
    "## Dealing With Missing Values And Duplicates"
   ]
  },
  {
   "cell_type": "code",
   "execution_count": 24,
   "id": "08de8c36",
   "metadata": {},
   "outputs": [
    {
     "data": {
      "text/html": [
       "<div>\n",
       "<style scoped>\n",
       "    .dataframe tbody tr th:only-of-type {\n",
       "        vertical-align: middle;\n",
       "    }\n",
       "\n",
       "    .dataframe tbody tr th {\n",
       "        vertical-align: top;\n",
       "    }\n",
       "\n",
       "    .dataframe thead th {\n",
       "        text-align: right;\n",
       "    }\n",
       "</style>\n",
       "<table border=\"1\" class=\"dataframe\">\n",
       "  <thead>\n",
       "    <tr style=\"text-align: right;\">\n",
       "      <th></th>\n",
       "      <th>date</th>\n",
       "      <th>sum_click</th>\n",
       "      <th>code_module</th>\n",
       "      <th>code_presentation</th>\n",
       "      <th>gender</th>\n",
       "      <th>region</th>\n",
       "      <th>highest_education</th>\n",
       "      <th>imd_band</th>\n",
       "      <th>age_band</th>\n",
       "      <th>num_of_prev_attempts</th>\n",
       "      <th>studied_credits</th>\n",
       "      <th>disability</th>\n",
       "      <th>final_result</th>\n",
       "    </tr>\n",
       "  </thead>\n",
       "  <tbody>\n",
       "  </tbody>\n",
       "</table>\n",
       "</div>"
      ],
      "text/plain": [
       "Empty DataFrame\n",
       "Columns: [date, sum_click, code_module, code_presentation, gender, region, highest_education, imd_band, age_band, num_of_prev_attempts, studied_credits, disability, final_result]\n",
       "Index: []"
      ]
     },
     "execution_count": 24,
     "metadata": {},
     "output_type": "execute_result"
    }
   ],
   "source": [
    "#Checking to see if there are any duplicates in the dataset\n",
    "student_info[student_info.duplicated()]"
   ]
  },
  {
   "cell_type": "code",
   "execution_count": 25,
   "id": "5268a116",
   "metadata": {},
   "outputs": [
    {
     "data": {
      "text/plain": [
       "<AxesSubplot:>"
      ]
     },
     "execution_count": 25,
     "metadata": {},
     "output_type": "execute_result"
    },
    {
     "data": {
      "image/png": "[encoded data removed]",
      "text/plain": [
       "<Figure size 432x288 with 2 Axes>"
      ]
     },
     "metadata": {
      "needs_background": "light"
     },
     "output_type": "display_data"
    }
   ],
   "source": [
    "#Visualising rows with null values on a heatmap\n",
    "sns.heatmap(student_info.isnull())"
   ]
  },
  {
   "cell_type": "code",
   "execution_count": 26,
   "id": "2f587e38",
   "metadata": {},
   "outputs": [],
   "source": [
    "#Dropping rows containing null values\n",
    "student_info.dropna(inplace = True)"
   ]
  },
  {
   "cell_type": "code",
   "execution_count": 27,
   "id": "f5a74bcd",
   "metadata": {},
   "outputs": [
    {
     "data": {
      "text/plain": [
       "<AxesSubplot:>"
      ]
     },
     "execution_count": 27,
     "metadata": {},
     "output_type": "execute_result"
    },
    {
     "data": {
      "image/png": "[encoded data removed]",
      "text/plain": [
       "<Figure size 432x288 with 2 Axes>"
      ]
     },
     "metadata": {
      "needs_background": "light"
     },
     "output_type": "display_data"
    }
   ],
   "source": [
    "#Checking to see that the rows with null values were successfully dropped.\n",
    "sns.heatmap(student_info.isnull())"
   ]
  },
  {
   "cell_type": "markdown",
   "id": "242b2662",
   "metadata": {},
   "source": [
    "## Outlier Detection "
   ]
  },
  {
   "cell_type": "code",
   "execution_count": 28,
   "id": "ba74ddec",
   "metadata": {},
   "outputs": [
    {
     "data": {
      "text/html": [
       "<div>\n",
       "<style scoped>\n",
       "    .dataframe tbody tr th:only-of-type {\n",
       "        vertical-align: middle;\n",
       "    }\n",
       "\n",
       "    .dataframe tbody tr th {\n",
       "        vertical-align: top;\n",
       "    }\n",
       "\n",
       "    .dataframe thead th {\n",
       "        text-align: right;\n",
       "    }\n",
       "</style>\n",
       "<table border=\"1\" class=\"dataframe\">\n",
       "  <thead>\n",
       "    <tr style=\"text-align: right;\">\n",
       "      <th></th>\n",
       "      <th>date</th>\n",
       "      <th>sum_click</th>\n",
       "      <th>num_of_prev_attempts</th>\n",
       "      <th>studied_credits</th>\n",
       "      <th>final_result</th>\n",
       "    </tr>\n",
       "  </thead>\n",
       "  <tbody>\n",
       "    <tr>\n",
       "      <th>count</th>\n",
       "      <td>21230.000000</td>\n",
       "      <td>21230.000000</td>\n",
       "      <td>21230.000000</td>\n",
       "      <td>21230.000000</td>\n",
       "      <td>21230.000000</td>\n",
       "    </tr>\n",
       "    <tr>\n",
       "      <th>mean</th>\n",
       "      <td>49342.156712</td>\n",
       "      <td>1852.766557</td>\n",
       "      <td>0.152803</td>\n",
       "      <td>74.494819</td>\n",
       "      <td>0.690155</td>\n",
       "    </tr>\n",
       "    <tr>\n",
       "      <th>std</th>\n",
       "      <td>52134.448328</td>\n",
       "      <td>2158.361204</td>\n",
       "      <td>0.464192</td>\n",
       "      <td>36.839657</td>\n",
       "      <td>0.462440</td>\n",
       "    </tr>\n",
       "    <tr>\n",
       "      <th>min</th>\n",
       "      <td>-3043.000000</td>\n",
       "      <td>1.000000</td>\n",
       "      <td>0.000000</td>\n",
       "      <td>30.000000</td>\n",
       "      <td>0.000000</td>\n",
       "    </tr>\n",
       "    <tr>\n",
       "      <th>25%</th>\n",
       "      <td>13018.250000</td>\n",
       "      <td>462.000000</td>\n",
       "      <td>0.000000</td>\n",
       "      <td>60.000000</td>\n",
       "      <td>0.000000</td>\n",
       "    </tr>\n",
       "    <tr>\n",
       "      <th>50%</th>\n",
       "      <td>34067.500000</td>\n",
       "      <td>1131.000000</td>\n",
       "      <td>0.000000</td>\n",
       "      <td>60.000000</td>\n",
       "      <td>1.000000</td>\n",
       "    </tr>\n",
       "    <tr>\n",
       "      <th>75%</th>\n",
       "      <td>68841.000000</td>\n",
       "      <td>2500.750000</td>\n",
       "      <td>0.000000</td>\n",
       "      <td>90.000000</td>\n",
       "      <td>1.000000</td>\n",
       "    </tr>\n",
       "    <tr>\n",
       "      <th>max</th>\n",
       "      <td>667275.000000</td>\n",
       "      <td>28615.000000</td>\n",
       "      <td>6.000000</td>\n",
       "      <td>630.000000</td>\n",
       "      <td>1.000000</td>\n",
       "    </tr>\n",
       "  </tbody>\n",
       "</table>\n",
       "</div>"
      ],
      "text/plain": [
       "                date     sum_click  num_of_prev_attempts  studied_credits  \\\n",
       "count   21230.000000  21230.000000          21230.000000     21230.000000   \n",
       "mean    49342.156712   1852.766557              0.152803        74.494819   \n",
       "std     52134.448328   2158.361204              0.464192        36.839657   \n",
       "min     -3043.000000      1.000000              0.000000        30.000000   \n",
       "25%     13018.250000    462.000000              0.000000        60.000000   \n",
       "50%     34067.500000   1131.000000              0.000000        60.000000   \n",
       "75%     68841.000000   2500.750000              0.000000        90.000000   \n",
       "max    667275.000000  28615.000000              6.000000       630.000000   \n",
       "\n",
       "       final_result  \n",
       "count  21230.000000  \n",
       "mean       0.690155  \n",
       "std        0.462440  \n",
       "min        0.000000  \n",
       "25%        0.000000  \n",
       "50%        1.000000  \n",
       "75%        1.000000  \n",
       "max        1.000000  "
      ]
     },
     "execution_count": 28,
     "metadata": {},
     "output_type": "execute_result"
    }
   ],
   "source": [
    "student_info.describe()"
   ]
  },
  {
   "cell_type": "code",
   "execution_count": 29,
   "id": "d556d152",
   "metadata": {},
   "outputs": [
    {
     "data": {
      "image/png": "[encoded data removed]",
      "text/plain": [
       "<Figure size 432x288 with 1 Axes>"
      ]
     },
     "metadata": {
      "needs_background": "light"
     },
     "output_type": "display_data"
    }
   ],
   "source": [
    "#Checking numerical columns for outliers\n",
    "sns.boxplot( x=student_info[\"date\"], palette ='pastel')\n",
    "plt.show()"
   ]
  },
  {
   "cell_type": "code",
   "execution_count": 30,
   "id": "36740263",
   "metadata": {},
   "outputs": [
    {
     "data": {
      "image/png": "[encoded data removed]",
      "text/plain": [
       "<Figure size 432x288 with 1 Axes>"
      ]
     },
     "metadata": {
      "needs_background": "light"
     },
     "output_type": "display_data"
    }
   ],
   "source": [
    "sns.boxplot( x=student_info[\"num_of_prev_attempts\"] , palette ='pastel')\n",
    "plt.show()"
   ]
  },
  {
   "cell_type": "code",
   "execution_count": 31,
   "id": "aa4c7ca8",
   "metadata": {},
   "outputs": [
    {
     "data": {
      "image/png": "[encoded data removed]",
      "text/plain": [
       "<Figure size 432x288 with 1 Axes>"
      ]
     },
     "metadata": {
      "needs_background": "light"
     },
     "output_type": "display_data"
    }
   ],
   "source": [
    "sns.boxplot( x=student_info[\"sum_click\"], palette ='pastel')\n",
    "plt.show()"
   ]
  },
  {
   "cell_type": "code",
   "execution_count": 32,
   "id": "1a97ec47",
   "metadata": {},
   "outputs": [
    {
     "data": {
      "image/png": "[encoded data removed]",
      "text/plain": [
       "<Figure size 432x288 with 1 Axes>"
      ]
     },
     "metadata": {
      "needs_background": "light"
     },
     "output_type": "display_data"
    }
   ],
   "source": [
    "sns.boxplot( x=student_info[\"studied_credits\"], palette ='pastel')\n",
    "plt.show()"
   ]
  },
  {
   "cell_type": "code",
   "execution_count": 33,
   "id": "e0137256",
   "metadata": {},
   "outputs": [
    {
     "data": {
      "text/plain": [
       "180.0"
      ]
     },
     "execution_count": 33,
     "metadata": {},
     "output_type": "execute_result"
    }
   ],
   "source": [
    "student_info[\"studied_credits\"].quantile(0.99)"
   ]
  },
  {
   "cell_type": "code",
   "execution_count": 34,
   "id": "d9352360",
   "metadata": {},
   "outputs": [
    {
     "data": {
      "text/html": [
       "<div>\n",
       "<style scoped>\n",
       "    .dataframe tbody tr th:only-of-type {\n",
       "        vertical-align: middle;\n",
       "    }\n",
       "\n",
       "    .dataframe tbody tr th {\n",
       "        vertical-align: top;\n",
       "    }\n",
       "\n",
       "    .dataframe thead th {\n",
       "        text-align: right;\n",
       "    }\n",
       "</style>\n",
       "<table border=\"1\" class=\"dataframe\">\n",
       "  <thead>\n",
       "    <tr style=\"text-align: right;\">\n",
       "      <th></th>\n",
       "      <th>date</th>\n",
       "      <th>sum_click</th>\n",
       "      <th>code_module</th>\n",
       "      <th>code_presentation</th>\n",
       "      <th>gender</th>\n",
       "      <th>region</th>\n",
       "      <th>highest_education</th>\n",
       "      <th>imd_band</th>\n",
       "      <th>age_band</th>\n",
       "      <th>num_of_prev_attempts</th>\n",
       "      <th>studied_credits</th>\n",
       "      <th>disability</th>\n",
       "      <th>final_result</th>\n",
       "    </tr>\n",
       "  </thead>\n",
       "  <tbody>\n",
       "    <tr>\n",
       "      <th>3</th>\n",
       "      <td>20018</td>\n",
       "      <td>934</td>\n",
       "      <td>AAA</td>\n",
       "      <td>2013J</td>\n",
       "      <td>M</td>\n",
       "      <td>East Anglian Region</td>\n",
       "      <td>HE Qualification</td>\n",
       "      <td>90-100%</td>\n",
       "      <td>55&lt;=</td>\n",
       "      <td>0</td>\n",
       "      <td>240</td>\n",
       "      <td>N</td>\n",
       "      <td>1</td>\n",
       "    </tr>\n",
       "    <tr>\n",
       "      <th>219</th>\n",
       "      <td>91916</td>\n",
       "      <td>1957</td>\n",
       "      <td>CCC</td>\n",
       "      <td>2014J</td>\n",
       "      <td>M</td>\n",
       "      <td>West Midlands Region</td>\n",
       "      <td>A Level or Equivalent</td>\n",
       "      <td>90-100%</td>\n",
       "      <td>0-35</td>\n",
       "      <td>0</td>\n",
       "      <td>270</td>\n",
       "      <td>N</td>\n",
       "      <td>1</td>\n",
       "    </tr>\n",
       "    <tr>\n",
       "      <th>336</th>\n",
       "      <td>172829</td>\n",
       "      <td>7467</td>\n",
       "      <td>FFF</td>\n",
       "      <td>2013B</td>\n",
       "      <td>M</td>\n",
       "      <td>Scotland</td>\n",
       "      <td>HE Qualification</td>\n",
       "      <td>70-80%</td>\n",
       "      <td>35-55</td>\n",
       "      <td>2</td>\n",
       "      <td>270</td>\n",
       "      <td>N</td>\n",
       "      <td>0</td>\n",
       "    </tr>\n",
       "    <tr>\n",
       "      <th>358</th>\n",
       "      <td>12274</td>\n",
       "      <td>270</td>\n",
       "      <td>BBB</td>\n",
       "      <td>2013B</td>\n",
       "      <td>F</td>\n",
       "      <td>South East Region</td>\n",
       "      <td>HE Qualification</td>\n",
       "      <td>70-80%</td>\n",
       "      <td>35-55</td>\n",
       "      <td>0</td>\n",
       "      <td>240</td>\n",
       "      <td>N</td>\n",
       "      <td>1</td>\n",
       "    </tr>\n",
       "    <tr>\n",
       "      <th>487</th>\n",
       "      <td>53334</td>\n",
       "      <td>2284</td>\n",
       "      <td>FFF</td>\n",
       "      <td>2013J</td>\n",
       "      <td>M</td>\n",
       "      <td>East Midlands Region</td>\n",
       "      <td>A Level or Equivalent</td>\n",
       "      <td>40-50%</td>\n",
       "      <td>0-35</td>\n",
       "      <td>1</td>\n",
       "      <td>220</td>\n",
       "      <td>N</td>\n",
       "      <td>1</td>\n",
       "    </tr>\n",
       "    <tr>\n",
       "      <th>...</th>\n",
       "      <td>...</td>\n",
       "      <td>...</td>\n",
       "      <td>...</td>\n",
       "      <td>...</td>\n",
       "      <td>...</td>\n",
       "      <td>...</td>\n",
       "      <td>...</td>\n",
       "      <td>...</td>\n",
       "      <td>...</td>\n",
       "      <td>...</td>\n",
       "      <td>...</td>\n",
       "      <td>...</td>\n",
       "      <td>...</td>\n",
       "    </tr>\n",
       "    <tr>\n",
       "      <th>29364</th>\n",
       "      <td>41745</td>\n",
       "      <td>927</td>\n",
       "      <td>DDD</td>\n",
       "      <td>2013J</td>\n",
       "      <td>F</td>\n",
       "      <td>South West Region</td>\n",
       "      <td>Lower Than A Level</td>\n",
       "      <td>80-90%</td>\n",
       "      <td>0-35</td>\n",
       "      <td>1</td>\n",
       "      <td>210</td>\n",
       "      <td>N</td>\n",
       "      <td>1</td>\n",
       "    </tr>\n",
       "    <tr>\n",
       "      <th>29522</th>\n",
       "      <td>43602</td>\n",
       "      <td>1654</td>\n",
       "      <td>FFF</td>\n",
       "      <td>2013J</td>\n",
       "      <td>M</td>\n",
       "      <td>London Region</td>\n",
       "      <td>HE Qualification</td>\n",
       "      <td>50-60%</td>\n",
       "      <td>35-55</td>\n",
       "      <td>0</td>\n",
       "      <td>240</td>\n",
       "      <td>N</td>\n",
       "      <td>1</td>\n",
       "    </tr>\n",
       "    <tr>\n",
       "      <th>29629</th>\n",
       "      <td>13961</td>\n",
       "      <td>260</td>\n",
       "      <td>BBB</td>\n",
       "      <td>2014B</td>\n",
       "      <td>F</td>\n",
       "      <td>South East Region</td>\n",
       "      <td>Lower Than A Level</td>\n",
       "      <td>10-20</td>\n",
       "      <td>0-35</td>\n",
       "      <td>0</td>\n",
       "      <td>250</td>\n",
       "      <td>N</td>\n",
       "      <td>1</td>\n",
       "    </tr>\n",
       "    <tr>\n",
       "      <th>29691</th>\n",
       "      <td>62</td>\n",
       "      <td>34</td>\n",
       "      <td>BBB</td>\n",
       "      <td>2014B</td>\n",
       "      <td>F</td>\n",
       "      <td>Yorkshire Region</td>\n",
       "      <td>Lower Than A Level</td>\n",
       "      <td>10-20</td>\n",
       "      <td>0-35</td>\n",
       "      <td>3</td>\n",
       "      <td>270</td>\n",
       "      <td>N</td>\n",
       "      <td>0</td>\n",
       "    </tr>\n",
       "    <tr>\n",
       "      <th>29725</th>\n",
       "      <td>11815</td>\n",
       "      <td>282</td>\n",
       "      <td>DDD</td>\n",
       "      <td>2014B</td>\n",
       "      <td>F</td>\n",
       "      <td>London Region</td>\n",
       "      <td>Lower Than A Level</td>\n",
       "      <td>80-90%</td>\n",
       "      <td>0-35</td>\n",
       "      <td>3</td>\n",
       "      <td>210</td>\n",
       "      <td>N</td>\n",
       "      <td>0</td>\n",
       "    </tr>\n",
       "  </tbody>\n",
       "</table>\n",
       "<p>194 rows × 13 columns</p>\n",
       "</div>"
      ],
      "text/plain": [
       "         date  sum_click code_module code_presentation gender  \\\n",
       "3       20018        934         AAA             2013J      M   \n",
       "219     91916       1957         CCC             2014J      M   \n",
       "336    172829       7467         FFF             2013B      M   \n",
       "358     12274        270         BBB             2013B      F   \n",
       "487     53334       2284         FFF             2013J      M   \n",
       "...       ...        ...         ...               ...    ...   \n",
       "29364   41745        927         DDD             2013J      F   \n",
       "29522   43602       1654         FFF             2013J      M   \n",
       "29629   13961        260         BBB             2014B      F   \n",
       "29691      62         34         BBB             2014B      F   \n",
       "29725   11815        282         DDD             2014B      F   \n",
       "\n",
       "                     region      highest_education imd_band age_band  \\\n",
       "3       East Anglian Region       HE Qualification  90-100%     55<=   \n",
       "219    West Midlands Region  A Level or Equivalent  90-100%     0-35   \n",
       "336                Scotland       HE Qualification   70-80%    35-55   \n",
       "358       South East Region       HE Qualification   70-80%    35-55   \n",
       "487    East Midlands Region  A Level or Equivalent   40-50%     0-35   \n",
       "...                     ...                    ...      ...      ...   \n",
       "29364     South West Region     Lower Than A Level   80-90%     0-35   \n",
       "29522         London Region       HE Qualification   50-60%    35-55   \n",
       "29629     South East Region     Lower Than A Level    10-20     0-35   \n",
       "29691      Yorkshire Region     Lower Than A Level    10-20     0-35   \n",
       "29725         London Region     Lower Than A Level   80-90%     0-35   \n",
       "\n",
       "       num_of_prev_attempts  studied_credits disability  final_result  \n",
       "3                         0              240          N             1  \n",
       "219                       0              270          N             1  \n",
       "336                       2              270          N             0  \n",
       "358                       0              240          N             1  \n",
       "487                       1              220          N             1  \n",
       "...                     ...              ...        ...           ...  \n",
       "29364                     1              210          N             1  \n",
       "29522                     0              240          N             1  \n",
       "29629                     0              250          N             1  \n",
       "29691                     3              270          N             0  \n",
       "29725                     3              210          N             0  \n",
       "\n",
       "[194 rows x 13 columns]"
      ]
     },
     "execution_count": 34,
     "metadata": {},
     "output_type": "execute_result"
    }
   ],
   "source": [
    "student_info[student_info[\"studied_credits\"]>180]"
   ]
  },
  {
   "cell_type": "code",
   "execution_count": 35,
   "id": "9f0faa10",
   "metadata": {},
   "outputs": [],
   "source": [
    "#Removing the rows which contain outliers in the studied credits column\n",
    "student_info = student_info.drop(student_info[student_info[\"studied_credits\"]>180].index)"
   ]
  },
  {
   "cell_type": "markdown",
   "id": "494c854a",
   "metadata": {},
   "source": [
    "## Exploratory Data Analysis"
   ]
  },
  {
   "cell_type": "code",
   "execution_count": 36,
   "id": "e052c091",
   "metadata": {},
   "outputs": [
    {
     "data": {
      "text/plain": [
       "<AxesSubplot:xlabel='final_result', ylabel='count'>"
      ]
     },
     "execution_count": 36,
     "metadata": {},
     "output_type": "execute_result"
    },
    {
     "data": {
      "image/png": "[encoded data removed]",
      "text/plain": [
       "<Figure size 432x288 with 1 Axes>"
      ]
     },
     "metadata": {
      "needs_background": "light"
     },
     "output_type": "display_data"
    }
   ],
   "source": [
    "#Visualising the target variable(Final Results)\n",
    "sns.countplot(x='final_result',data=student_info, palette ='pastel')"
   ]
  },
  {
   "cell_type": "code",
   "execution_count": 37,
   "id": "6516497d",
   "metadata": {},
   "outputs": [
    {
     "data": {
      "text/plain": [
       "<AxesSubplot:>"
      ]
     },
     "execution_count": 37,
     "metadata": {},
     "output_type": "execute_result"
    },
    {
     "data": {
      "image/png": "[encoded data removed]",
      "text/plain": [
       "<Figure size 432x288 with 2 Axes>"
      ]
     },
     "metadata": {
      "needs_background": "light"
     },
     "output_type": "display_data"
    }
   ],
   "source": [
    "sns.heatmap(student_info.corr())"
   ]
  },
  {
   "cell_type": "code",
   "execution_count": 38,
   "id": "53faad8a",
   "metadata": {
    "scrolled": true
   },
   "outputs": [
    {
     "data": {
      "text/plain": [
       "<AxesSubplot:xlabel='gender', ylabel='count'>"
      ]
     },
     "execution_count": 38,
     "metadata": {},
     "output_type": "execute_result"
    },
    {
     "data": {
      "image/png": "[encoded data removed]",
      "text/plain": [
       "<Figure size 432x288 with 1 Axes>"
      ]
     },
     "metadata": {
      "needs_background": "light"
     },
     "output_type": "display_data"
    }
   ],
   "source": [
    "#Visualizing categorical variables \n",
    "sns.countplot(x='gender',hue='final_result',data=student_info, palette ='pastel')"
   ]
  },
  {
   "cell_type": "code",
   "execution_count": 39,
   "id": "fc30ac2b",
   "metadata": {},
   "outputs": [
    {
     "data": {
      "text/plain": [
       "<matplotlib.legend.Legend at 0x15800f74e20>"
      ]
     },
     "execution_count": 39,
     "metadata": {},
     "output_type": "execute_result"
    },
    {
     "data": {
      "image/png": "[encoded data removed]",
      "text/plain": [
       "<Figure size 1080x576 with 1 Axes>"
      ]
     },
     "metadata": {
      "needs_background": "light"
     },
     "output_type": "display_data"
    }
   ],
   "source": [
    "#Visualizing success and falure based on region of student\n",
    "plt.figure(figsize = (15,8))\n",
    "sns.countplot(x='final_result',hue='region',data=student_info, palette ='pastel')\n",
    "plt.legend(bbox_to_anchor=(1.02, 1), loc='upper left', borderaxespad=0)"
   ]
  },
  {
   "cell_type": "code",
   "execution_count": 40,
   "id": "8eb33bb8",
   "metadata": {},
   "outputs": [
    {
     "data": {
      "text/plain": [
       "<AxesSubplot:xlabel='final_result', ylabel='count'>"
      ]
     },
     "execution_count": 40,
     "metadata": {},
     "output_type": "execute_result"
    },
    {
     "data": {
      "image/png": "[encoded data removed]",
      "text/plain": [
       "<Figure size 432x288 with 1 Axes>"
      ]
     },
     "metadata": {
      "needs_background": "light"
     },
     "output_type": "display_data"
    }
   ],
   "source": [
    "sns.countplot(x='final_result',hue='age_band',data=student_info, palette ='pastel')"
   ]
  },
  {
   "cell_type": "code",
   "execution_count": 41,
   "id": "e14842f2",
   "metadata": {},
   "outputs": [
    {
     "data": {
      "text/plain": [
       "<AxesSubplot:xlabel='count', ylabel='highest_education'>"
      ]
     },
     "execution_count": 41,
     "metadata": {},
     "output_type": "execute_result"
    },
    {
     "data": {
      "image/png": "[encoded data removed]",
      "text/plain": [
       "<Figure size 432x288 with 1 Axes>"
      ]
     },
     "metadata": {
      "needs_background": "light"
     },
     "output_type": "display_data"
    }
   ],
   "source": [
    "sns.countplot(y='highest_education',hue='final_result',data=student_info, palette ='pastel')"
   ]
  },
  {
   "cell_type": "code",
   "execution_count": 42,
   "id": "237851c9",
   "metadata": {},
   "outputs": [
    {
     "data": {
      "text/plain": [
       "<matplotlib.legend.Legend at 0x15803d2f1f0>"
      ]
     },
     "execution_count": 42,
     "metadata": {},
     "output_type": "execute_result"
    },
    {
     "data": {
      "image/png": "[encoded data removed]",
      "text/plain": [
       "<Figure size 432x288 with 1 Axes>"
      ]
     },
     "metadata": {
      "needs_background": "light"
     },
     "output_type": "display_data"
    }
   ],
   "source": [
    "sns.countplot(y='imd_band',hue='final_result',data=student_info, palette ='pastel')\n",
    "plt.legend(bbox_to_anchor=(1.02, 1), loc='upper left', borderaxespad=0)"
   ]
  },
  {
   "cell_type": "markdown",
   "id": "ed3a0ff8",
   "metadata": {},
   "source": [
    "## Handling Categorical Data"
   ]
  },
  {
   "cell_type": "code",
   "execution_count": 43,
   "id": "70b14517",
   "metadata": {},
   "outputs": [],
   "source": [
    "#Encoding categorical variables that have order\n",
    "education = ['No Formal quals', 'Lower Than A Level', 'A Level or Equivalent', 'HE Qualification', 'Post Graduate Qualification' ]\n",
    "imd = ['0-10%', '10-20', '20-30%', '30-40%', '40-50%', '50-60%', '60-70%', '70-80%' , '80-90%', '90-100%']\n",
    "age = ['0-35', '35-55', '55<=']\n",
    "\n",
    "ordinal_categories = [education, imd, age]\n",
    "oe = OrdinalEncoder(categories= ordinal_categories)\n",
    "ordinals = oe.fit_transform( student_info[['highest_education', 'imd_band', 'age_band']])"
   ]
  },
  {
   "cell_type": "code",
   "execution_count": 44,
   "id": "fb959620",
   "metadata": {},
   "outputs": [
    {
     "data": {
      "text/plain": [
       "array([[3., 8., 2.],\n",
       "       [1., 2., 0.],\n",
       "       [2., 5., 0.],\n",
       "       ...,\n",
       "       [1., 5., 0.],\n",
       "       [1., 5., 1.],\n",
       "       [3., 3., 0.]])"
      ]
     },
     "execution_count": 44,
     "metadata": {},
     "output_type": "execute_result"
    }
   ],
   "source": [
    "ordinals"
   ]
  },
  {
   "cell_type": "code",
   "execution_count": 45,
   "id": "b5aa0167",
   "metadata": {},
   "outputs": [],
   "source": [
    "#Encoding categorical variables without order using one hot encoder\n",
    "enc = OneHotEncoder(drop = 'first')\n",
    "onehots = enc.fit_transform(student_info[['code_module','code_presentation','gender','region','disability']]).toarray()\n"
   ]
  },
  {
   "cell_type": "code",
   "execution_count": 46,
   "id": "883dd7a5",
   "metadata": {},
   "outputs": [
    {
     "data": {
      "text/plain": [
       "[array(['AAA', 'BBB', 'CCC', 'DDD', 'EEE', 'FFF', 'GGG'], dtype=object),\n",
       " array(['2013B', '2013J', '2014B', '2014J'], dtype=object),\n",
       " array(['F', 'M'], dtype=object),\n",
       " array(['East Anglian Region', 'East Midlands Region', 'Ireland',\n",
       "        'London Region', 'North Region', 'North Western Region',\n",
       "        'Scotland', 'South East Region', 'South Region',\n",
       "        'South West Region', 'Wales', 'West Midlands Region',\n",
       "        'Yorkshire Region'], dtype=object),\n",
       " array(['N', 'Y'], dtype=object)]"
      ]
     },
     "execution_count": 46,
     "metadata": {},
     "output_type": "execute_result"
    }
   ],
   "source": [
    "enc.categories_"
   ]
  },
  {
   "cell_type": "code",
   "execution_count": 47,
   "id": "2f4cf019",
   "metadata": {},
   "outputs": [],
   "source": [
    "cols = []\n",
    "\n",
    "for i in enc.categories_:\n",
    "    i = np.delete(i,0)\n",
    "    cols.extend(i)"
   ]
  },
  {
   "cell_type": "code",
   "execution_count": 48,
   "id": "3dcb4a7f",
   "metadata": {},
   "outputs": [
    {
     "data": {
      "text/plain": [
       "['BBB',\n",
       " 'CCC',\n",
       " 'DDD',\n",
       " 'EEE',\n",
       " 'FFF',\n",
       " 'GGG',\n",
       " '2013J',\n",
       " '2014B',\n",
       " '2014J',\n",
       " 'M',\n",
       " 'East Midlands Region',\n",
       " 'Ireland',\n",
       " 'London Region',\n",
       " 'North Region',\n",
       " 'North Western Region',\n",
       " 'Scotland',\n",
       " 'South East Region',\n",
       " 'South Region',\n",
       " 'South West Region',\n",
       " 'Wales',\n",
       " 'West Midlands Region',\n",
       " 'Yorkshire Region',\n",
       " 'Y']"
      ]
     },
     "execution_count": 48,
     "metadata": {},
     "output_type": "execute_result"
    }
   ],
   "source": [
    "cols"
   ]
  },
  {
   "cell_type": "code",
   "execution_count": 49,
   "id": "05754fd8",
   "metadata": {},
   "outputs": [],
   "source": [
    "    \n",
    "student_info = pd.concat([pd.DataFrame(onehots, columns=cols), student_info.reset_index(drop = True)], axis = 1)\n"
   ]
  },
  {
   "cell_type": "code",
   "execution_count": 50,
   "id": "e1284475",
   "metadata": {},
   "outputs": [
    {
     "data": {
      "text/html": [
       "<div>\n",
       "<style scoped>\n",
       "    .dataframe tbody tr th:only-of-type {\n",
       "        vertical-align: middle;\n",
       "    }\n",
       "\n",
       "    .dataframe tbody tr th {\n",
       "        vertical-align: top;\n",
       "    }\n",
       "\n",
       "    .dataframe thead th {\n",
       "        text-align: right;\n",
       "    }\n",
       "</style>\n",
       "<table border=\"1\" class=\"dataframe\">\n",
       "  <thead>\n",
       "    <tr style=\"text-align: right;\">\n",
       "      <th></th>\n",
       "      <th>BBB</th>\n",
       "      <th>CCC</th>\n",
       "      <th>DDD</th>\n",
       "      <th>EEE</th>\n",
       "      <th>FFF</th>\n",
       "      <th>GGG</th>\n",
       "      <th>2013J</th>\n",
       "      <th>2014B</th>\n",
       "      <th>2014J</th>\n",
       "      <th>M</th>\n",
       "      <th>...</th>\n",
       "      <th>code_presentation</th>\n",
       "      <th>gender</th>\n",
       "      <th>region</th>\n",
       "      <th>highest_education</th>\n",
       "      <th>imd_band</th>\n",
       "      <th>age_band</th>\n",
       "      <th>num_of_prev_attempts</th>\n",
       "      <th>studied_credits</th>\n",
       "      <th>disability</th>\n",
       "      <th>final_result</th>\n",
       "    </tr>\n",
       "  </thead>\n",
       "  <tbody>\n",
       "    <tr>\n",
       "      <th>0</th>\n",
       "      <td>0.0</td>\n",
       "      <td>0.0</td>\n",
       "      <td>0.0</td>\n",
       "      <td>0.0</td>\n",
       "      <td>0.0</td>\n",
       "      <td>0.0</td>\n",
       "      <td>0.0</td>\n",
       "      <td>0.0</td>\n",
       "      <td>1.0</td>\n",
       "      <td>1.0</td>\n",
       "      <td>...</td>\n",
       "      <td>2014J</td>\n",
       "      <td>M</td>\n",
       "      <td>Scotland</td>\n",
       "      <td>HE Qualification</td>\n",
       "      <td>80-90%</td>\n",
       "      <td>55&lt;=</td>\n",
       "      <td>0</td>\n",
       "      <td>60</td>\n",
       "      <td>N</td>\n",
       "      <td>1</td>\n",
       "    </tr>\n",
       "    <tr>\n",
       "      <th>1</th>\n",
       "      <td>1.0</td>\n",
       "      <td>0.0</td>\n",
       "      <td>0.0</td>\n",
       "      <td>0.0</td>\n",
       "      <td>0.0</td>\n",
       "      <td>0.0</td>\n",
       "      <td>0.0</td>\n",
       "      <td>0.0</td>\n",
       "      <td>0.0</td>\n",
       "      <td>0.0</td>\n",
       "      <td>...</td>\n",
       "      <td>2013B</td>\n",
       "      <td>F</td>\n",
       "      <td>East Anglian Region</td>\n",
       "      <td>Lower Than A Level</td>\n",
       "      <td>20-30%</td>\n",
       "      <td>0-35</td>\n",
       "      <td>2</td>\n",
       "      <td>60</td>\n",
       "      <td>N</td>\n",
       "      <td>0</td>\n",
       "    </tr>\n",
       "    <tr>\n",
       "      <th>2</th>\n",
       "      <td>0.0</td>\n",
       "      <td>1.0</td>\n",
       "      <td>0.0</td>\n",
       "      <td>0.0</td>\n",
       "      <td>0.0</td>\n",
       "      <td>0.0</td>\n",
       "      <td>0.0</td>\n",
       "      <td>0.0</td>\n",
       "      <td>1.0</td>\n",
       "      <td>0.0</td>\n",
       "      <td>...</td>\n",
       "      <td>2014J</td>\n",
       "      <td>F</td>\n",
       "      <td>East Anglian Region</td>\n",
       "      <td>A Level or Equivalent</td>\n",
       "      <td>50-60%</td>\n",
       "      <td>0-35</td>\n",
       "      <td>0</td>\n",
       "      <td>120</td>\n",
       "      <td>N</td>\n",
       "      <td>1</td>\n",
       "    </tr>\n",
       "    <tr>\n",
       "      <th>3</th>\n",
       "      <td>1.0</td>\n",
       "      <td>0.0</td>\n",
       "      <td>0.0</td>\n",
       "      <td>0.0</td>\n",
       "      <td>0.0</td>\n",
       "      <td>0.0</td>\n",
       "      <td>1.0</td>\n",
       "      <td>0.0</td>\n",
       "      <td>0.0</td>\n",
       "      <td>1.0</td>\n",
       "      <td>...</td>\n",
       "      <td>2013J</td>\n",
       "      <td>M</td>\n",
       "      <td>Wales</td>\n",
       "      <td>A Level or Equivalent</td>\n",
       "      <td>50-60%</td>\n",
       "      <td>0-35</td>\n",
       "      <td>0</td>\n",
       "      <td>60</td>\n",
       "      <td>N</td>\n",
       "      <td>1</td>\n",
       "    </tr>\n",
       "    <tr>\n",
       "      <th>4</th>\n",
       "      <td>0.0</td>\n",
       "      <td>0.0</td>\n",
       "      <td>0.0</td>\n",
       "      <td>0.0</td>\n",
       "      <td>0.0</td>\n",
       "      <td>1.0</td>\n",
       "      <td>0.0</td>\n",
       "      <td>1.0</td>\n",
       "      <td>0.0</td>\n",
       "      <td>0.0</td>\n",
       "      <td>...</td>\n",
       "      <td>2014B</td>\n",
       "      <td>F</td>\n",
       "      <td>Yorkshire Region</td>\n",
       "      <td>Lower Than A Level</td>\n",
       "      <td>10-20</td>\n",
       "      <td>0-35</td>\n",
       "      <td>0</td>\n",
       "      <td>30</td>\n",
       "      <td>Y</td>\n",
       "      <td>1</td>\n",
       "    </tr>\n",
       "    <tr>\n",
       "      <th>...</th>\n",
       "      <td>...</td>\n",
       "      <td>...</td>\n",
       "      <td>...</td>\n",
       "      <td>...</td>\n",
       "      <td>...</td>\n",
       "      <td>...</td>\n",
       "      <td>...</td>\n",
       "      <td>...</td>\n",
       "      <td>...</td>\n",
       "      <td>...</td>\n",
       "      <td>...</td>\n",
       "      <td>...</td>\n",
       "      <td>...</td>\n",
       "      <td>...</td>\n",
       "      <td>...</td>\n",
       "      <td>...</td>\n",
       "      <td>...</td>\n",
       "      <td>...</td>\n",
       "      <td>...</td>\n",
       "      <td>...</td>\n",
       "      <td>...</td>\n",
       "    </tr>\n",
       "    <tr>\n",
       "      <th>21031</th>\n",
       "      <td>0.0</td>\n",
       "      <td>0.0</td>\n",
       "      <td>1.0</td>\n",
       "      <td>0.0</td>\n",
       "      <td>0.0</td>\n",
       "      <td>0.0</td>\n",
       "      <td>0.0</td>\n",
       "      <td>1.0</td>\n",
       "      <td>0.0</td>\n",
       "      <td>0.0</td>\n",
       "      <td>...</td>\n",
       "      <td>2014B</td>\n",
       "      <td>F</td>\n",
       "      <td>South West Region</td>\n",
       "      <td>A Level or Equivalent</td>\n",
       "      <td>50-60%</td>\n",
       "      <td>0-35</td>\n",
       "      <td>0</td>\n",
       "      <td>60</td>\n",
       "      <td>N</td>\n",
       "      <td>0</td>\n",
       "    </tr>\n",
       "    <tr>\n",
       "      <th>21032</th>\n",
       "      <td>0.0</td>\n",
       "      <td>0.0</td>\n",
       "      <td>0.0</td>\n",
       "      <td>0.0</td>\n",
       "      <td>0.0</td>\n",
       "      <td>0.0</td>\n",
       "      <td>1.0</td>\n",
       "      <td>0.0</td>\n",
       "      <td>0.0</td>\n",
       "      <td>1.0</td>\n",
       "      <td>...</td>\n",
       "      <td>2013J</td>\n",
       "      <td>M</td>\n",
       "      <td>East Midlands Region</td>\n",
       "      <td>Lower Than A Level</td>\n",
       "      <td>60-70%</td>\n",
       "      <td>0-35</td>\n",
       "      <td>0</td>\n",
       "      <td>120</td>\n",
       "      <td>N</td>\n",
       "      <td>1</td>\n",
       "    </tr>\n",
       "    <tr>\n",
       "      <th>21033</th>\n",
       "      <td>0.0</td>\n",
       "      <td>0.0</td>\n",
       "      <td>0.0</td>\n",
       "      <td>1.0</td>\n",
       "      <td>0.0</td>\n",
       "      <td>0.0</td>\n",
       "      <td>1.0</td>\n",
       "      <td>0.0</td>\n",
       "      <td>0.0</td>\n",
       "      <td>1.0</td>\n",
       "      <td>...</td>\n",
       "      <td>2013J</td>\n",
       "      <td>M</td>\n",
       "      <td>Wales</td>\n",
       "      <td>Lower Than A Level</td>\n",
       "      <td>50-60%</td>\n",
       "      <td>0-35</td>\n",
       "      <td>0</td>\n",
       "      <td>60</td>\n",
       "      <td>N</td>\n",
       "      <td>1</td>\n",
       "    </tr>\n",
       "    <tr>\n",
       "      <th>21034</th>\n",
       "      <td>1.0</td>\n",
       "      <td>0.0</td>\n",
       "      <td>0.0</td>\n",
       "      <td>0.0</td>\n",
       "      <td>0.0</td>\n",
       "      <td>0.0</td>\n",
       "      <td>0.0</td>\n",
       "      <td>0.0</td>\n",
       "      <td>1.0</td>\n",
       "      <td>0.0</td>\n",
       "      <td>...</td>\n",
       "      <td>2014J</td>\n",
       "      <td>F</td>\n",
       "      <td>Wales</td>\n",
       "      <td>Lower Than A Level</td>\n",
       "      <td>50-60%</td>\n",
       "      <td>35-55</td>\n",
       "      <td>0</td>\n",
       "      <td>60</td>\n",
       "      <td>N</td>\n",
       "      <td>0</td>\n",
       "    </tr>\n",
       "    <tr>\n",
       "      <th>21035</th>\n",
       "      <td>1.0</td>\n",
       "      <td>0.0</td>\n",
       "      <td>0.0</td>\n",
       "      <td>0.0</td>\n",
       "      <td>0.0</td>\n",
       "      <td>0.0</td>\n",
       "      <td>0.0</td>\n",
       "      <td>0.0</td>\n",
       "      <td>1.0</td>\n",
       "      <td>0.0</td>\n",
       "      <td>...</td>\n",
       "      <td>2014J</td>\n",
       "      <td>F</td>\n",
       "      <td>Yorkshire Region</td>\n",
       "      <td>HE Qualification</td>\n",
       "      <td>30-40%</td>\n",
       "      <td>0-35</td>\n",
       "      <td>0</td>\n",
       "      <td>120</td>\n",
       "      <td>N</td>\n",
       "      <td>1</td>\n",
       "    </tr>\n",
       "  </tbody>\n",
       "</table>\n",
       "<p>21036 rows × 36 columns</p>\n",
       "</div>"
      ],
      "text/plain": [
       "       BBB  CCC  DDD  EEE  FFF  GGG  2013J  2014B  2014J    M  ...  \\\n",
       "0      0.0  0.0  0.0  0.0  0.0  0.0    0.0    0.0    1.0  1.0  ...   \n",
       "1      1.0  0.0  0.0  0.0  0.0  0.0    0.0    0.0    0.0  0.0  ...   \n",
       "2      0.0  1.0  0.0  0.0  0.0  0.0    0.0    0.0    1.0  0.0  ...   \n",
       "3      1.0  0.0  0.0  0.0  0.0  0.0    1.0    0.0    0.0  1.0  ...   \n",
       "4      0.0  0.0  0.0  0.0  0.0  1.0    0.0    1.0    0.0  0.0  ...   \n",
       "...    ...  ...  ...  ...  ...  ...    ...    ...    ...  ...  ...   \n",
       "21031  0.0  0.0  1.0  0.0  0.0  0.0    0.0    1.0    0.0  0.0  ...   \n",
       "21032  0.0  0.0  0.0  0.0  0.0  0.0    1.0    0.0    0.0  1.0  ...   \n",
       "21033  0.0  0.0  0.0  1.0  0.0  0.0    1.0    0.0    0.0  1.0  ...   \n",
       "21034  1.0  0.0  0.0  0.0  0.0  0.0    0.0    0.0    1.0  0.0  ...   \n",
       "21035  1.0  0.0  0.0  0.0  0.0  0.0    0.0    0.0    1.0  0.0  ...   \n",
       "\n",
       "       code_presentation  gender                region      highest_education  \\\n",
       "0                  2014J       M              Scotland       HE Qualification   \n",
       "1                  2013B       F   East Anglian Region     Lower Than A Level   \n",
       "2                  2014J       F   East Anglian Region  A Level or Equivalent   \n",
       "3                  2013J       M                 Wales  A Level or Equivalent   \n",
       "4                  2014B       F      Yorkshire Region     Lower Than A Level   \n",
       "...                  ...     ...                   ...                    ...   \n",
       "21031              2014B       F     South West Region  A Level or Equivalent   \n",
       "21032              2013J       M  East Midlands Region     Lower Than A Level   \n",
       "21033              2013J       M                 Wales     Lower Than A Level   \n",
       "21034              2014J       F                 Wales     Lower Than A Level   \n",
       "21035              2014J       F      Yorkshire Region       HE Qualification   \n",
       "\n",
       "       imd_band  age_band  num_of_prev_attempts  studied_credits  disability  \\\n",
       "0        80-90%      55<=                     0               60           N   \n",
       "1        20-30%      0-35                     2               60           N   \n",
       "2        50-60%      0-35                     0              120           N   \n",
       "3        50-60%      0-35                     0               60           N   \n",
       "4         10-20      0-35                     0               30           Y   \n",
       "...         ...       ...                   ...              ...         ...   \n",
       "21031    50-60%      0-35                     0               60           N   \n",
       "21032    60-70%      0-35                     0              120           N   \n",
       "21033    50-60%      0-35                     0               60           N   \n",
       "21034    50-60%     35-55                     0               60           N   \n",
       "21035    30-40%      0-35                     0              120           N   \n",
       "\n",
       "       final_result  \n",
       "0                 1  \n",
       "1                 0  \n",
       "2                 1  \n",
       "3                 1  \n",
       "4                 1  \n",
       "...             ...  \n",
       "21031             0  \n",
       "21032             1  \n",
       "21033             1  \n",
       "21034             0  \n",
       "21035             1  \n",
       "\n",
       "[21036 rows x 36 columns]"
      ]
     },
     "execution_count": 50,
     "metadata": {},
     "output_type": "execute_result"
    }
   ],
   "source": [
    "student_info"
   ]
  },
  {
   "cell_type": "code",
   "execution_count": 51,
   "id": "250783d5",
   "metadata": {},
   "outputs": [],
   "source": [
    "student_info = pd.concat([pd.DataFrame(ordinals, columns=['education', 'imd', 'age']), student_info.reset_index(drop = True)], axis = 1)"
   ]
  },
  {
   "cell_type": "code",
   "execution_count": 52,
   "id": "b925ebad",
   "metadata": {},
   "outputs": [],
   "source": [
    "student_info = student_info.drop(['code_module','code_presentation','gender','region','disability','highest_education', 'imd_band', 'age_band'], axis = 1)"
   ]
  },
  {
   "cell_type": "code",
   "execution_count": 53,
   "id": "a98cbac2",
   "metadata": {},
   "outputs": [
    {
     "data": {
      "text/html": [
       "<div>\n",
       "<style scoped>\n",
       "    .dataframe tbody tr th:only-of-type {\n",
       "        vertical-align: middle;\n",
       "    }\n",
       "\n",
       "    .dataframe tbody tr th {\n",
       "        vertical-align: top;\n",
       "    }\n",
       "\n",
       "    .dataframe thead th {\n",
       "        text-align: right;\n",
       "    }\n",
       "</style>\n",
       "<table border=\"1\" class=\"dataframe\">\n",
       "  <thead>\n",
       "    <tr style=\"text-align: right;\">\n",
       "      <th></th>\n",
       "      <th>education</th>\n",
       "      <th>imd</th>\n",
       "      <th>age</th>\n",
       "      <th>BBB</th>\n",
       "      <th>CCC</th>\n",
       "      <th>DDD</th>\n",
       "      <th>EEE</th>\n",
       "      <th>FFF</th>\n",
       "      <th>GGG</th>\n",
       "      <th>2013J</th>\n",
       "      <th>...</th>\n",
       "      <th>South West Region</th>\n",
       "      <th>Wales</th>\n",
       "      <th>West Midlands Region</th>\n",
       "      <th>Yorkshire Region</th>\n",
       "      <th>Y</th>\n",
       "      <th>date</th>\n",
       "      <th>sum_click</th>\n",
       "      <th>num_of_prev_attempts</th>\n",
       "      <th>studied_credits</th>\n",
       "      <th>final_result</th>\n",
       "    </tr>\n",
       "  </thead>\n",
       "  <tbody>\n",
       "    <tr>\n",
       "      <th>0</th>\n",
       "      <td>3.0</td>\n",
       "      <td>8.0</td>\n",
       "      <td>2.0</td>\n",
       "      <td>0.0</td>\n",
       "      <td>0.0</td>\n",
       "      <td>0.0</td>\n",
       "      <td>0.0</td>\n",
       "      <td>0.0</td>\n",
       "      <td>0.0</td>\n",
       "      <td>0.0</td>\n",
       "      <td>...</td>\n",
       "      <td>0.0</td>\n",
       "      <td>0.0</td>\n",
       "      <td>0.0</td>\n",
       "      <td>0.0</td>\n",
       "      <td>0.0</td>\n",
       "      <td>73140</td>\n",
       "      <td>2791</td>\n",
       "      <td>0</td>\n",
       "      <td>60</td>\n",
       "      <td>1</td>\n",
       "    </tr>\n",
       "    <tr>\n",
       "      <th>1</th>\n",
       "      <td>1.0</td>\n",
       "      <td>2.0</td>\n",
       "      <td>0.0</td>\n",
       "      <td>1.0</td>\n",
       "      <td>0.0</td>\n",
       "      <td>0.0</td>\n",
       "      <td>0.0</td>\n",
       "      <td>0.0</td>\n",
       "      <td>0.0</td>\n",
       "      <td>0.0</td>\n",
       "      <td>...</td>\n",
       "      <td>0.0</td>\n",
       "      <td>0.0</td>\n",
       "      <td>0.0</td>\n",
       "      <td>0.0</td>\n",
       "      <td>0.0</td>\n",
       "      <td>2539</td>\n",
       "      <td>161</td>\n",
       "      <td>2</td>\n",
       "      <td>60</td>\n",
       "      <td>0</td>\n",
       "    </tr>\n",
       "    <tr>\n",
       "      <th>2</th>\n",
       "      <td>2.0</td>\n",
       "      <td>5.0</td>\n",
       "      <td>0.0</td>\n",
       "      <td>0.0</td>\n",
       "      <td>1.0</td>\n",
       "      <td>0.0</td>\n",
       "      <td>0.0</td>\n",
       "      <td>0.0</td>\n",
       "      <td>0.0</td>\n",
       "      <td>0.0</td>\n",
       "      <td>...</td>\n",
       "      <td>0.0</td>\n",
       "      <td>0.0</td>\n",
       "      <td>0.0</td>\n",
       "      <td>0.0</td>\n",
       "      <td>0.0</td>\n",
       "      <td>26120</td>\n",
       "      <td>910</td>\n",
       "      <td>0</td>\n",
       "      <td>120</td>\n",
       "      <td>1</td>\n",
       "    </tr>\n",
       "    <tr>\n",
       "      <th>3</th>\n",
       "      <td>2.0</td>\n",
       "      <td>5.0</td>\n",
       "      <td>0.0</td>\n",
       "      <td>1.0</td>\n",
       "      <td>0.0</td>\n",
       "      <td>0.0</td>\n",
       "      <td>0.0</td>\n",
       "      <td>0.0</td>\n",
       "      <td>0.0</td>\n",
       "      <td>1.0</td>\n",
       "      <td>...</td>\n",
       "      <td>0.0</td>\n",
       "      <td>1.0</td>\n",
       "      <td>0.0</td>\n",
       "      <td>0.0</td>\n",
       "      <td>0.0</td>\n",
       "      <td>33601</td>\n",
       "      <td>590</td>\n",
       "      <td>0</td>\n",
       "      <td>60</td>\n",
       "      <td>1</td>\n",
       "    </tr>\n",
       "    <tr>\n",
       "      <th>4</th>\n",
       "      <td>1.0</td>\n",
       "      <td>1.0</td>\n",
       "      <td>0.0</td>\n",
       "      <td>0.0</td>\n",
       "      <td>0.0</td>\n",
       "      <td>0.0</td>\n",
       "      <td>0.0</td>\n",
       "      <td>0.0</td>\n",
       "      <td>1.0</td>\n",
       "      <td>0.0</td>\n",
       "      <td>...</td>\n",
       "      <td>0.0</td>\n",
       "      <td>0.0</td>\n",
       "      <td>0.0</td>\n",
       "      <td>1.0</td>\n",
       "      <td>1.0</td>\n",
       "      <td>10675</td>\n",
       "      <td>184</td>\n",
       "      <td>0</td>\n",
       "      <td>30</td>\n",
       "      <td>1</td>\n",
       "    </tr>\n",
       "    <tr>\n",
       "      <th>...</th>\n",
       "      <td>...</td>\n",
       "      <td>...</td>\n",
       "      <td>...</td>\n",
       "      <td>...</td>\n",
       "      <td>...</td>\n",
       "      <td>...</td>\n",
       "      <td>...</td>\n",
       "      <td>...</td>\n",
       "      <td>...</td>\n",
       "      <td>...</td>\n",
       "      <td>...</td>\n",
       "      <td>...</td>\n",
       "      <td>...</td>\n",
       "      <td>...</td>\n",
       "      <td>...</td>\n",
       "      <td>...</td>\n",
       "      <td>...</td>\n",
       "      <td>...</td>\n",
       "      <td>...</td>\n",
       "      <td>...</td>\n",
       "      <td>...</td>\n",
       "    </tr>\n",
       "    <tr>\n",
       "      <th>21031</th>\n",
       "      <td>2.0</td>\n",
       "      <td>5.0</td>\n",
       "      <td>0.0</td>\n",
       "      <td>0.0</td>\n",
       "      <td>0.0</td>\n",
       "      <td>1.0</td>\n",
       "      <td>0.0</td>\n",
       "      <td>0.0</td>\n",
       "      <td>0.0</td>\n",
       "      <td>0.0</td>\n",
       "      <td>...</td>\n",
       "      <td>1.0</td>\n",
       "      <td>0.0</td>\n",
       "      <td>0.0</td>\n",
       "      <td>0.0</td>\n",
       "      <td>0.0</td>\n",
       "      <td>42240</td>\n",
       "      <td>1511</td>\n",
       "      <td>0</td>\n",
       "      <td>60</td>\n",
       "      <td>0</td>\n",
       "    </tr>\n",
       "    <tr>\n",
       "      <th>21032</th>\n",
       "      <td>1.0</td>\n",
       "      <td>6.0</td>\n",
       "      <td>0.0</td>\n",
       "      <td>0.0</td>\n",
       "      <td>0.0</td>\n",
       "      <td>0.0</td>\n",
       "      <td>0.0</td>\n",
       "      <td>0.0</td>\n",
       "      <td>0.0</td>\n",
       "      <td>1.0</td>\n",
       "      <td>...</td>\n",
       "      <td>0.0</td>\n",
       "      <td>0.0</td>\n",
       "      <td>0.0</td>\n",
       "      <td>0.0</td>\n",
       "      <td>0.0</td>\n",
       "      <td>25114</td>\n",
       "      <td>758</td>\n",
       "      <td>0</td>\n",
       "      <td>120</td>\n",
       "      <td>1</td>\n",
       "    </tr>\n",
       "    <tr>\n",
       "      <th>21033</th>\n",
       "      <td>1.0</td>\n",
       "      <td>5.0</td>\n",
       "      <td>0.0</td>\n",
       "      <td>0.0</td>\n",
       "      <td>0.0</td>\n",
       "      <td>0.0</td>\n",
       "      <td>1.0</td>\n",
       "      <td>0.0</td>\n",
       "      <td>0.0</td>\n",
       "      <td>1.0</td>\n",
       "      <td>...</td>\n",
       "      <td>0.0</td>\n",
       "      <td>1.0</td>\n",
       "      <td>0.0</td>\n",
       "      <td>0.0</td>\n",
       "      <td>0.0</td>\n",
       "      <td>63531</td>\n",
       "      <td>4241</td>\n",
       "      <td>0</td>\n",
       "      <td>60</td>\n",
       "      <td>1</td>\n",
       "    </tr>\n",
       "    <tr>\n",
       "      <th>21034</th>\n",
       "      <td>1.0</td>\n",
       "      <td>5.0</td>\n",
       "      <td>1.0</td>\n",
       "      <td>1.0</td>\n",
       "      <td>0.0</td>\n",
       "      <td>0.0</td>\n",
       "      <td>0.0</td>\n",
       "      <td>0.0</td>\n",
       "      <td>0.0</td>\n",
       "      <td>0.0</td>\n",
       "      <td>...</td>\n",
       "      <td>0.0</td>\n",
       "      <td>1.0</td>\n",
       "      <td>0.0</td>\n",
       "      <td>0.0</td>\n",
       "      <td>0.0</td>\n",
       "      <td>21818</td>\n",
       "      <td>717</td>\n",
       "      <td>0</td>\n",
       "      <td>60</td>\n",
       "      <td>0</td>\n",
       "    </tr>\n",
       "    <tr>\n",
       "      <th>21035</th>\n",
       "      <td>3.0</td>\n",
       "      <td>3.0</td>\n",
       "      <td>0.0</td>\n",
       "      <td>1.0</td>\n",
       "      <td>0.0</td>\n",
       "      <td>0.0</td>\n",
       "      <td>0.0</td>\n",
       "      <td>0.0</td>\n",
       "      <td>0.0</td>\n",
       "      <td>0.0</td>\n",
       "      <td>...</td>\n",
       "      <td>0.0</td>\n",
       "      <td>0.0</td>\n",
       "      <td>0.0</td>\n",
       "      <td>1.0</td>\n",
       "      <td>0.0</td>\n",
       "      <td>31587</td>\n",
       "      <td>605</td>\n",
       "      <td>0</td>\n",
       "      <td>120</td>\n",
       "      <td>1</td>\n",
       "    </tr>\n",
       "  </tbody>\n",
       "</table>\n",
       "<p>21036 rows × 31 columns</p>\n",
       "</div>"
      ],
      "text/plain": [
       "       education  imd  age  BBB  CCC  DDD  EEE  FFF  GGG  2013J  ...  \\\n",
       "0            3.0  8.0  2.0  0.0  0.0  0.0  0.0  0.0  0.0    0.0  ...   \n",
       "1            1.0  2.0  0.0  1.0  0.0  0.0  0.0  0.0  0.0    0.0  ...   \n",
       "2            2.0  5.0  0.0  0.0  1.0  0.0  0.0  0.0  0.0    0.0  ...   \n",
       "3            2.0  5.0  0.0  1.0  0.0  0.0  0.0  0.0  0.0    1.0  ...   \n",
       "4            1.0  1.0  0.0  0.0  0.0  0.0  0.0  0.0  1.0    0.0  ...   \n",
       "...          ...  ...  ...  ...  ...  ...  ...  ...  ...    ...  ...   \n",
       "21031        2.0  5.0  0.0  0.0  0.0  1.0  0.0  0.0  0.0    0.0  ...   \n",
       "21032        1.0  6.0  0.0  0.0  0.0  0.0  0.0  0.0  0.0    1.0  ...   \n",
       "21033        1.0  5.0  0.0  0.0  0.0  0.0  1.0  0.0  0.0    1.0  ...   \n",
       "21034        1.0  5.0  1.0  1.0  0.0  0.0  0.0  0.0  0.0    0.0  ...   \n",
       "21035        3.0  3.0  0.0  1.0  0.0  0.0  0.0  0.0  0.0    0.0  ...   \n",
       "\n",
       "       South West Region  Wales  West Midlands Region  Yorkshire Region    Y  \\\n",
       "0                    0.0    0.0                   0.0               0.0  0.0   \n",
       "1                    0.0    0.0                   0.0               0.0  0.0   \n",
       "2                    0.0    0.0                   0.0               0.0  0.0   \n",
       "3                    0.0    1.0                   0.0               0.0  0.0   \n",
       "4                    0.0    0.0                   0.0               1.0  1.0   \n",
       "...                  ...    ...                   ...               ...  ...   \n",
       "21031                1.0    0.0                   0.0               0.0  0.0   \n",
       "21032                0.0    0.0                   0.0               0.0  0.0   \n",
       "21033                0.0    1.0                   0.0               0.0  0.0   \n",
       "21034                0.0    1.0                   0.0               0.0  0.0   \n",
       "21035                0.0    0.0                   0.0               1.0  0.0   \n",
       "\n",
       "        date  sum_click  num_of_prev_attempts  studied_credits  final_result  \n",
       "0      73140       2791                     0               60             1  \n",
       "1       2539        161                     2               60             0  \n",
       "2      26120        910                     0              120             1  \n",
       "3      33601        590                     0               60             1  \n",
       "4      10675        184                     0               30             1  \n",
       "...      ...        ...                   ...              ...           ...  \n",
       "21031  42240       1511                     0               60             0  \n",
       "21032  25114        758                     0              120             1  \n",
       "21033  63531       4241                     0               60             1  \n",
       "21034  21818        717                     0               60             0  \n",
       "21035  31587        605                     0              120             1  \n",
       "\n",
       "[21036 rows x 31 columns]"
      ]
     },
     "execution_count": 53,
     "metadata": {},
     "output_type": "execute_result"
    }
   ],
   "source": [
    "student_info"
   ]
  },
  {
   "cell_type": "markdown",
   "id": "ec6ce0fe",
   "metadata": {},
   "source": [
    "## Preparing For Machine Learning"
   ]
  },
  {
   "cell_type": "code",
   "execution_count": 54,
   "id": "ef455770",
   "metadata": {},
   "outputs": [],
   "source": [
    "# Seperating the data into features and traget variable\n",
    "X = student_info.drop('final_result', axis = 1)\n",
    "y = student_info['final_result']"
   ]
  },
  {
   "cell_type": "code",
   "execution_count": 55,
   "id": "43167621",
   "metadata": {},
   "outputs": [],
   "source": [
    "#Splitting the data into training and testing sets\n",
    "\n",
    "X_train, X_test, y_train, y_test = train_test_split(X, y, test_size=0.30 , stratify = y, random_state = 0)"
   ]
  },
  {
   "cell_type": "code",
   "execution_count": 56,
   "id": "9bb1eff0",
   "metadata": {},
   "outputs": [],
   "source": [
    "#Creating an instance of the Standard Scaler\n",
    "scaler = StandardScaler()"
   ]
  },
  {
   "cell_type": "code",
   "execution_count": 57,
   "id": "085f5ed4",
   "metadata": {},
   "outputs": [],
   "source": [
    "#Scaling the numerical variables of the training set\n",
    "X_train_s = scaler.fit_transform(X_train)"
   ]
  },
  {
   "cell_type": "code",
   "execution_count": 58,
   "id": "69bb3865",
   "metadata": {},
   "outputs": [],
   "source": [
    "#Scaling the test set\n",
    "X_test_s = scaler.transform(X_test)"
   ]
  },
  {
   "cell_type": "code",
   "execution_count": 59,
   "id": "f0ba67dc",
   "metadata": {},
   "outputs": [
    {
     "data": {
      "text/plain": [
       "array([[ 0.31712591, -0.49300615, -0.64580587, ...,  0.5539239 ,\n",
       "        -0.32584068, -0.39640228],\n",
       "       [ 0.31712591, -1.20392184, -0.64580587, ..., -0.28328024,\n",
       "        -0.32584068, -0.39640228],\n",
       "       [ 0.31712591,  0.57336738, -0.64580587, ..., -0.71458121,\n",
       "        -0.32584068,  1.43037921],\n",
       "       ...,\n",
       "       [-1.05147872,  0.92882523, -0.64580587, ..., -0.66332381,\n",
       "        -0.32584068, -0.39640228],\n",
       "       [-1.05147872,  1.28428307,  1.43960892, ..., -0.11288403,\n",
       "        -0.32584068,  3.25716069],\n",
       "       [-1.05147872,  1.28428307, -0.64580587, ..., -0.52756098,\n",
       "         1.84323887, -0.39640228]])"
      ]
     },
     "execution_count": 59,
     "metadata": {},
     "output_type": "execute_result"
    }
   ],
   "source": [
    "X_train_s"
   ]
  },
  {
   "cell_type": "code",
   "execution_count": 60,
   "id": "64379a05",
   "metadata": {},
   "outputs": [
    {
     "data": {
      "text/plain": [
       "(14725, 30)"
      ]
     },
     "execution_count": 60,
     "metadata": {},
     "output_type": "execute_result"
    }
   ],
   "source": [
    "#checking the number of rows and columns in the train set.\n",
    "X_train_s.shape"
   ]
  },
  {
   "cell_type": "code",
   "execution_count": 61,
   "id": "e5273327",
   "metadata": {},
   "outputs": [],
   "source": [
    "logr = LogisticRegression()"
   ]
  },
  {
   "cell_type": "code",
   "execution_count": 62,
   "id": "1484ca7b",
   "metadata": {},
   "outputs": [
    {
     "name": "stdout",
     "output_type": "stream",
     "text": [
      "Number of remaining features: 4\n"
     ]
    }
   ],
   "source": [
    "rfecv = RFECV(estimator=logr, cv=3, step= 1, scoring='accuracy') \n",
    "\n",
    "X_train_fs = rfecv.fit_transform(X_train_s, y_train) \n",
    "X_test_fs = rfecv.transform(X_test_s) \n",
    "\n",
    "print(f\"Number of remaining features: {X_train_fs.shape[1]}\")"
   ]
  },
  {
   "cell_type": "code",
   "execution_count": 63,
   "id": "403ba515",
   "metadata": {},
   "outputs": [
    {
     "data": {
      "image/png": "[encoded data removed]",
      "text/plain": [
       "<Figure size 1080x432 with 1 Axes>"
      ]
     },
     "metadata": {
      "needs_background": "light"
     },
     "output_type": "display_data"
    }
   ],
   "source": [
    "plt.figure( figsize=(15, 6)) \n",
    "plt.title('Number of Features Included vs Accuracy') \n",
    "plt.xlabel('Number of Features Included')\n",
    "plt.ylabel('Model Accuracy') \n",
    "plt.plot(np.linspace(0,30,30), rfecv.cv_results_['mean_test_score']) \n",
    "plt.show()"
   ]
  },
  {
   "cell_type": "code",
   "execution_count": 64,
   "id": "745711d6",
   "metadata": {},
   "outputs": [
    {
     "data": {
      "text/html": [
       "<style>#sk-container-id-1 {color: black;background-color: white;}#sk-container-id-1 pre{padding: 0;}#sk-container-id-1 div.sk-toggleable {background-color: white;}#sk-container-id-1 label.sk-toggleable__label {cursor: pointer;display: block;width: 100%;margin-bottom: 0;padding: 0.3em;box-sizing: border-box;text-align: center;}#sk-container-id-1 label.sk-toggleable__label-arrow:before {content: \"▸\";float: left;margin-right: 0.25em;color: #696969;}#sk-container-id-1 label.sk-toggleable__label-arrow:hover:before {color: black;}#sk-container-id-1 div.sk-estimator:hover label.sk-toggleable__label-arrow:before {color: black;}#sk-container-id-1 div.sk-toggleable__content {max-height: 0;max-width: 0;overflow: hidden;text-align: left;background-color: #f0f8ff;}#sk-container-id-1 div.sk-toggleable__content pre {margin: 0.2em;color: black;border-radius: 0.25em;background-color: #f0f8ff;}#sk-container-id-1 input.sk-toggleable__control:checked~div.sk-toggleable__content {max-height: 200px;max-width: 100%;overflow: auto;}#sk-container-id-1 input.sk-toggleable__control:checked~label.sk-toggleable__label-arrow:before {content: \"▾\";}#sk-container-id-1 div.sk-estimator input.sk-toggleable__control:checked~label.sk-toggleable__label {background-color: #d4ebff;}#sk-container-id-1 div.sk-label input.sk-toggleable__control:checked~label.sk-toggleable__label {background-color: #d4ebff;}#sk-container-id-1 input.sk-hidden--visually {border: 0;clip: rect(1px 1px 1px 1px);clip: rect(1px, 1px, 1px, 1px);height: 1px;margin: -1px;overflow: hidden;padding: 0;position: absolute;width: 1px;}#sk-container-id-1 div.sk-estimator {font-family: monospace;background-color: #f0f8ff;border: 1px dotted black;border-radius: 0.25em;box-sizing: border-box;margin-bottom: 0.5em;}#sk-container-id-1 div.sk-estimator:hover {background-color: #d4ebff;}#sk-container-id-1 div.sk-parallel-item::after {content: \"\";width: 100%;border-bottom: 1px solid gray;flex-grow: 1;}#sk-container-id-1 div.sk-label:hover label.sk-toggleable__label {background-color: #d4ebff;}#sk-container-id-1 div.sk-serial::before {content: \"\";position: absolute;border-left: 1px solid gray;box-sizing: border-box;top: 0;bottom: 0;left: 50%;z-index: 0;}#sk-container-id-1 div.sk-serial {display: flex;flex-direction: column;align-items: center;background-color: white;padding-right: 0.2em;padding-left: 0.2em;position: relative;}#sk-container-id-1 div.sk-item {position: relative;z-index: 1;}#sk-container-id-1 div.sk-parallel {display: flex;align-items: stretch;justify-content: center;background-color: white;position: relative;}#sk-container-id-1 div.sk-item::before, #sk-container-id-1 div.sk-parallel-item::before {content: \"\";position: absolute;border-left: 1px solid gray;box-sizing: border-box;top: 0;bottom: 0;left: 50%;z-index: -1;}#sk-container-id-1 div.sk-parallel-item {display: flex;flex-direction: column;z-index: 1;position: relative;background-color: white;}#sk-container-id-1 div.sk-parallel-item:first-child::after {align-self: flex-end;width: 50%;}#sk-container-id-1 div.sk-parallel-item:last-child::after {align-self: flex-start;width: 50%;}#sk-container-id-1 div.sk-parallel-item:only-child::after {width: 0;}#sk-container-id-1 div.sk-dashed-wrapped {border: 1px dashed gray;margin: 0 0.4em 0.5em 0.4em;box-sizing: border-box;padding-bottom: 0.4em;background-color: white;}#sk-container-id-1 div.sk-label label {font-family: monospace;font-weight: bold;display: inline-block;line-height: 1.2em;}#sk-container-id-1 div.sk-label-container {text-align: center;}#sk-container-id-1 div.sk-container {/* jupyter's `normalize.less` sets `[hidden] { display: none; }` but bootstrap.min.css set `[hidden] { display: none !important; }` so we also need the `!important` here to be able to override the default hidden behavior on the sphinx rendered scikit-learn.org. See: https://github.com/scikit-learn/scikit-learn/issues/21755 */display: inline-block !important;position: relative;}#sk-container-id-1 div.sk-text-repr-fallback {display: none;}</style><div id=\"sk-container-id-1\" class=\"sk-top-container\"><div class=\"sk-text-repr-fallback\"><pre>LogisticRegression()</pre><b>In a Jupyter environment, please rerun this cell to show the HTML representation or trust the notebook. <br />On GitHub, the HTML representation is unable to render, please try loading this page with nbviewer.org.</b></div><div class=\"sk-container\" hidden><div class=\"sk-item\"><div class=\"sk-estimator sk-toggleable\"><input class=\"sk-toggleable__control sk-hidden--visually\" id=\"sk-estimator-id-1\" type=\"checkbox\" checked><label for=\"sk-estimator-id-1\" class=\"sk-toggleable__label sk-toggleable__label-arrow\">LogisticRegression</label><div class=\"sk-toggleable__content\"><pre>LogisticRegression()</pre></div></div></div></div></div>"
      ],
      "text/plain": [
       "LogisticRegression()"
      ]
     },
     "execution_count": 64,
     "metadata": {},
     "output_type": "execute_result"
    }
   ],
   "source": [
    "logr.fit(X_train_fs, y_train)"
   ]
  },
  {
   "cell_type": "code",
   "execution_count": 65,
   "id": "e9a9efe4",
   "metadata": {},
   "outputs": [
    {
     "name": "stdout",
     "output_type": "stream",
     "text": [
      "Logistic Regression Model Accuracy 0.8708604024718745\n"
     ]
    }
   ],
   "source": [
    "# Accuracy Score\n",
    "score = logr.score(X_test_fs, y_test)\n",
    "print('Logistic Regression Model Accuracy', score)"
   ]
  },
  {
   "cell_type": "code",
   "execution_count": 66,
   "id": "bf7207ab",
   "metadata": {},
   "outputs": [],
   "source": [
    "predictions = logr.predict(X_test_fs)"
   ]
  },
  {
   "cell_type": "code",
   "execution_count": 67,
   "id": "af47897d",
   "metadata": {},
   "outputs": [
    {
     "name": "stdout",
     "output_type": "stream",
     "text": [
      "              precision    recall  f1-score   support\n",
      "\n",
      "           0       0.83      0.73      0.78      1951\n",
      "           1       0.89      0.93      0.91      4360\n",
      "\n",
      "    accuracy                           0.87      6311\n",
      "   macro avg       0.86      0.83      0.84      6311\n",
      "weighted avg       0.87      0.87      0.87      6311\n",
      "\n"
     ]
    }
   ],
   "source": [
    "print(classification_report(y_test,predictions))"
   ]
  },
  {
   "cell_type": "code",
   "execution_count": 68,
   "id": "1ebd17a8",
   "metadata": {},
   "outputs": [
    {
     "data": {
      "image/png": "[encoded data removed]",
      "text/plain": [
       "<Figure size 432x288 with 2 Axes>"
      ]
     },
     "metadata": {
      "needs_background": "light"
     },
     "output_type": "display_data"
    }
   ],
   "source": [
    "confusion_matrix = metrics.confusion_matrix(y_test,predictions)\n",
    "\n",
    "cm_display = metrics.ConfusionMatrixDisplay(confusion_matrix = confusion_matrix, display_labels = [False, True])\n",
    "\n",
    "cm_display.plot()\n",
    "plt.show()"
   ]
  },
  {
   "cell_type": "code",
   "execution_count": 69,
   "id": "257024df",
   "metadata": {},
   "outputs": [
    {
     "data": {
      "image/png": "[encoded data removed]",
      "text/plain": [
       "<Figure size 432x288 with 1 Axes>"
      ]
     },
     "metadata": {
      "needs_background": "light"
     },
     "output_type": "display_data"
    }
   ],
   "source": [
    "fpr, tpr, thresholds = roc_curve(y_test,predictions)\n",
    "plt.plot(fpr, tpr)\n",
    "plt.xlabel('False Positive Rate')\n",
    "plt.ylabel('True Positive Rate')\n",
    "plt.show()"
   ]
  },
  {
   "cell_type": "code",
   "execution_count": 70,
   "id": "8513ce72",
   "metadata": {},
   "outputs": [],
   "source": [
    "#do roc, auc and confusion matrix visualization"
   ]
  },
  {
   "cell_type": "markdown",
   "id": "c4d74861",
   "metadata": {},
   "source": [
    "# Neural Network"
   ]
  },
  {
   "cell_type": "code",
   "execution_count": 71,
   "id": "651a98b6",
   "metadata": {},
   "outputs": [],
   "source": [
    "model = tf.keras.models.Sequential()"
   ]
  },
  {
   "cell_type": "code",
   "execution_count": 72,
   "id": "abad841d",
   "metadata": {},
   "outputs": [],
   "source": [
    "model.add(tf.keras.layers.Dense(15, activation = 'relu', input_shape=(30,)))\n",
    "model.add(tf.keras.layers.Dense(1, activation = 'sigmoid'))"
   ]
  },
  {
   "cell_type": "code",
   "execution_count": 73,
   "id": "91a28a5c",
   "metadata": {},
   "outputs": [],
   "source": [
    "model.compile(optimizer = 'adam', loss='binary_crossentropy',  metrics = ['accuracy'])"
   ]
  },
  {
   "cell_type": "code",
   "execution_count": 74,
   "id": "2441bab8",
   "metadata": {},
   "outputs": [
    {
     "name": "stdout",
     "output_type": "stream",
     "text": [
      "Model: \"sequential\"\n",
      "_________________________________________________________________\n",
      " Layer (type)                Output Shape              Param #   \n",
      "=================================================================\n",
      " dense (Dense)               (None, 15)                465       \n",
      "                                                                 \n",
      " dense_1 (Dense)             (None, 1)                 16        \n",
      "                                                                 \n",
      "=================================================================\n",
      "Total params: 481\n",
      "Trainable params: 481\n",
      "Non-trainable params: 0\n",
      "_________________________________________________________________\n"
     ]
    }
   ],
   "source": [
    "model.summary()"
   ]
  },
  {
   "cell_type": "code",
   "execution_count": 75,
   "id": "25c76b89",
   "metadata": {
    "scrolled": true
   },
   "outputs": [
    {
     "name": "stdout",
     "output_type": "stream",
     "text": [
      "Epoch 1/50\n",
      "323/323 - 3s - loss: 0.5570 - accuracy: 0.7204 - val_loss: 0.5003 - val_accuracy: 0.7585 - 3s/epoch - 9ms/step\n",
      "Epoch 2/50\n",
      "323/323 - 1s - loss: 0.4676 - accuracy: 0.7879 - val_loss: 0.4592 - val_accuracy: 0.7881 - 1s/epoch - 5ms/step\n",
      "Epoch 3/50\n",
      "323/323 - 1s - loss: 0.4336 - accuracy: 0.8116 - val_loss: 0.4340 - val_accuracy: 0.8074 - 1s/epoch - 4ms/step\n",
      "Epoch 4/50\n",
      "323/323 - 1s - loss: 0.4111 - accuracy: 0.8224 - val_loss: 0.4180 - val_accuracy: 0.8171 - 1s/epoch - 4ms/step\n",
      "Epoch 5/50\n",
      "323/323 - 1s - loss: 0.3944 - accuracy: 0.8323 - val_loss: 0.4038 - val_accuracy: 0.8234 - 1s/epoch - 4ms/step\n",
      "Epoch 6/50\n",
      "323/323 - 1s - loss: 0.3816 - accuracy: 0.8414 - val_loss: 0.3935 - val_accuracy: 0.8291 - 1s/epoch - 4ms/step\n",
      "Epoch 7/50\n",
      "323/323 - 1s - loss: 0.3716 - accuracy: 0.8489 - val_loss: 0.3858 - val_accuracy: 0.8359 - 1s/epoch - 4ms/step\n",
      "Epoch 8/50\n",
      "323/323 - 1s - loss: 0.3640 - accuracy: 0.8505 - val_loss: 0.3798 - val_accuracy: 0.8373 - 1s/epoch - 4ms/step\n",
      "Epoch 9/50\n",
      "323/323 - 1s - loss: 0.3579 - accuracy: 0.8541 - val_loss: 0.3748 - val_accuracy: 0.8391 - 1s/epoch - 4ms/step\n",
      "Epoch 10/50\n",
      "323/323 - 2s - loss: 0.3524 - accuracy: 0.8563 - val_loss: 0.3708 - val_accuracy: 0.8416 - 2s/epoch - 5ms/step\n",
      "Epoch 11/50\n",
      "323/323 - 1s - loss: 0.3483 - accuracy: 0.8577 - val_loss: 0.3675 - val_accuracy: 0.8465 - 1s/epoch - 4ms/step\n",
      "Epoch 12/50\n",
      "323/323 - 1s - loss: 0.3446 - accuracy: 0.8617 - val_loss: 0.3664 - val_accuracy: 0.8454 - 1s/epoch - 3ms/step\n",
      "Epoch 13/50\n",
      "323/323 - 1s - loss: 0.3418 - accuracy: 0.8626 - val_loss: 0.3633 - val_accuracy: 0.8490 - 1s/epoch - 4ms/step\n",
      "Epoch 14/50\n",
      "323/323 - 1s - loss: 0.3401 - accuracy: 0.8650 - val_loss: 0.3625 - val_accuracy: 0.8506 - 1s/epoch - 4ms/step\n",
      "Epoch 15/50\n",
      "323/323 - 1s - loss: 0.3371 - accuracy: 0.8651 - val_loss: 0.3606 - val_accuracy: 0.8504 - 1s/epoch - 4ms/step\n",
      "Epoch 16/50\n",
      "323/323 - 1s - loss: 0.3356 - accuracy: 0.8670 - val_loss: 0.3582 - val_accuracy: 0.8529 - 1s/epoch - 4ms/step\n",
      "Epoch 17/50\n",
      "323/323 - 1s - loss: 0.3337 - accuracy: 0.8679 - val_loss: 0.3563 - val_accuracy: 0.8517 - 1s/epoch - 4ms/step\n",
      "Epoch 18/50\n",
      "323/323 - 1s - loss: 0.3326 - accuracy: 0.8671 - val_loss: 0.3547 - val_accuracy: 0.8517 - 1s/epoch - 4ms/step\n",
      "Epoch 19/50\n",
      "323/323 - 1s - loss: 0.3307 - accuracy: 0.8675 - val_loss: 0.3550 - val_accuracy: 0.8522 - 1s/epoch - 4ms/step\n",
      "Epoch 20/50\n",
      "323/323 - 1s - loss: 0.3290 - accuracy: 0.8686 - val_loss: 0.3529 - val_accuracy: 0.8560 - 1s/epoch - 4ms/step\n",
      "Epoch 21/50\n",
      "323/323 - 1s - loss: 0.3279 - accuracy: 0.8699 - val_loss: 0.3511 - val_accuracy: 0.8542 - 1s/epoch - 4ms/step\n",
      "Epoch 22/50\n",
      "323/323 - 1s - loss: 0.3269 - accuracy: 0.8682 - val_loss: 0.3498 - val_accuracy: 0.8538 - 1s/epoch - 4ms/step\n",
      "Epoch 23/50\n",
      "323/323 - 1s - loss: 0.3252 - accuracy: 0.8714 - val_loss: 0.3487 - val_accuracy: 0.8554 - 1s/epoch - 4ms/step\n",
      "Epoch 24/50\n",
      "323/323 - 1s - loss: 0.3240 - accuracy: 0.8706 - val_loss: 0.3479 - val_accuracy: 0.8579 - 1s/epoch - 5ms/step\n",
      "Epoch 25/50\n",
      "323/323 - 1s - loss: 0.3232 - accuracy: 0.8702 - val_loss: 0.3471 - val_accuracy: 0.8585 - 1s/epoch - 4ms/step\n",
      "Epoch 26/50\n",
      "323/323 - 1s - loss: 0.3219 - accuracy: 0.8724 - val_loss: 0.3457 - val_accuracy: 0.8576 - 1s/epoch - 4ms/step\n",
      "Epoch 27/50\n",
      "323/323 - 1s - loss: 0.3205 - accuracy: 0.8722 - val_loss: 0.3443 - val_accuracy: 0.8588 - 1s/epoch - 3ms/step\n",
      "Epoch 28/50\n",
      "323/323 - 1s - loss: 0.3197 - accuracy: 0.8724 - val_loss: 0.3447 - val_accuracy: 0.8610 - 1s/epoch - 3ms/step\n",
      "Epoch 29/50\n",
      "323/323 - 1s - loss: 0.3187 - accuracy: 0.8739 - val_loss: 0.3422 - val_accuracy: 0.8612 - 1s/epoch - 3ms/step\n",
      "Epoch 30/50\n",
      "323/323 - 1s - loss: 0.3175 - accuracy: 0.8715 - val_loss: 0.3441 - val_accuracy: 0.8619 - 1s/epoch - 3ms/step\n",
      "Epoch 31/50\n",
      "323/323 - 1s - loss: 0.3164 - accuracy: 0.8745 - val_loss: 0.3404 - val_accuracy: 0.8624 - 1s/epoch - 4ms/step\n",
      "Epoch 32/50\n",
      "323/323 - 1s - loss: 0.3157 - accuracy: 0.8730 - val_loss: 0.3404 - val_accuracy: 0.8612 - 1s/epoch - 5ms/step\n",
      "Epoch 33/50\n",
      "323/323 - 1s - loss: 0.3146 - accuracy: 0.8746 - val_loss: 0.3395 - val_accuracy: 0.8628 - 1s/epoch - 5ms/step\n",
      "Epoch 34/50\n",
      "323/323 - 2s - loss: 0.3138 - accuracy: 0.8730 - val_loss: 0.3386 - val_accuracy: 0.8619 - 2s/epoch - 5ms/step\n",
      "Epoch 35/50\n",
      "323/323 - 1s - loss: 0.3131 - accuracy: 0.8735 - val_loss: 0.3404 - val_accuracy: 0.8628 - 1s/epoch - 4ms/step\n",
      "Epoch 36/50\n",
      "323/323 - 1s - loss: 0.3122 - accuracy: 0.8746 - val_loss: 0.3376 - val_accuracy: 0.8610 - 1s/epoch - 3ms/step\n",
      "Epoch 37/50\n",
      "323/323 - 1s - loss: 0.3120 - accuracy: 0.8754 - val_loss: 0.3379 - val_accuracy: 0.8628 - 1s/epoch - 3ms/step\n",
      "Epoch 38/50\n",
      "323/323 - 1s - loss: 0.3109 - accuracy: 0.8750 - val_loss: 0.3409 - val_accuracy: 0.8601 - 1s/epoch - 3ms/step\n",
      "Epoch 39/50\n",
      "323/323 - 1s - loss: 0.3102 - accuracy: 0.8762 - val_loss: 0.3383 - val_accuracy: 0.8619 - 1s/epoch - 3ms/step\n",
      "Epoch 40/50\n",
      "323/323 - 1s - loss: 0.3095 - accuracy: 0.8743 - val_loss: 0.3370 - val_accuracy: 0.8628 - 1s/epoch - 3ms/step\n",
      "Epoch 41/50\n",
      "323/323 - 1s - loss: 0.3084 - accuracy: 0.8774 - val_loss: 0.3375 - val_accuracy: 0.8603 - 1s/epoch - 3ms/step\n",
      "Epoch 42/50\n",
      "323/323 - 1s - loss: 0.3085 - accuracy: 0.8772 - val_loss: 0.3390 - val_accuracy: 0.8642 - 1s/epoch - 3ms/step\n",
      "Epoch 43/50\n",
      "323/323 - 1s - loss: 0.3077 - accuracy: 0.8765 - val_loss: 0.3368 - val_accuracy: 0.8619 - 1s/epoch - 3ms/step\n",
      "Epoch 44/50\n",
      "323/323 - 1s - loss: 0.3070 - accuracy: 0.8770 - val_loss: 0.3350 - val_accuracy: 0.8635 - 1s/epoch - 3ms/step\n",
      "Epoch 45/50\n",
      "323/323 - 1s - loss: 0.3069 - accuracy: 0.8787 - val_loss: 0.3361 - val_accuracy: 0.8622 - 1s/epoch - 3ms/step\n",
      "Epoch 46/50\n",
      "323/323 - 1s - loss: 0.3058 - accuracy: 0.8785 - val_loss: 0.3367 - val_accuracy: 0.8631 - 1s/epoch - 3ms/step\n",
      "Epoch 47/50\n",
      "323/323 - 1s - loss: 0.3054 - accuracy: 0.8781 - val_loss: 0.3376 - val_accuracy: 0.8597 - 1s/epoch - 3ms/step\n",
      "Epoch 48/50\n",
      "323/323 - 1s - loss: 0.3053 - accuracy: 0.8778 - val_loss: 0.3363 - val_accuracy: 0.8628 - 1s/epoch - 3ms/step\n",
      "Epoch 49/50\n",
      "323/323 - 1s - loss: 0.3047 - accuracy: 0.8808 - val_loss: 0.3356 - val_accuracy: 0.8644 - 1s/epoch - 3ms/step\n",
      "Epoch 50/50\n",
      "323/323 - 1s - loss: 0.3042 - accuracy: 0.8773 - val_loss: 0.3356 - val_accuracy: 0.8617 - 1s/epoch - 4ms/step\n"
     ]
    }
   ],
   "source": [
    "history = model.fit(X_train_s, y_train, batch_size = 32, epochs= 50, verbose=2, validation_split=0.3)"
   ]
  },
  {
   "cell_type": "code",
   "execution_count": 76,
   "id": "ad0fb09b",
   "metadata": {},
   "outputs": [],
   "source": [
    "accuracy = history.history['accuracy'] \n",
    "validation_accuracy = history.history['val_accuracy'] "
   ]
  },
  {
   "cell_type": "code",
   "execution_count": 77,
   "id": "7c25ee3f",
   "metadata": {},
   "outputs": [
    {
     "data": {
      "text/plain": [
       "<matplotlib.legend.Legend at 0x15805dcb700>"
      ]
     },
     "execution_count": 77,
     "metadata": {},
     "output_type": "execute_result"
    },
    {
     "data": {
      "image/png": "[encoded data removed]",
      "text/plain": [
       "<Figure size 432x288 with 1 Axes>"
      ]
     },
     "metadata": {
      "needs_background": "light"
     },
     "output_type": "display_data"
    }
   ],
   "source": [
    "plt.plot(accuracy, label='Training Set Accuracy') \n",
    "plt.plot(validation_accuracy, label='Validation Set Accuracy') \n",
    "plt.ylabel('Accuracy') \n",
    "plt.ylim([min(plt.ylim()),1]) \n",
    "plt.title('Training and Validation Accuracy Across Epochs') \n",
    "plt.legend()"
   ]
  },
  {
   "cell_type": "code",
   "execution_count": 78,
   "id": "c5df84e9",
   "metadata": {},
   "outputs": [
    {
     "data": {
      "text/plain": [
       "<matplotlib.legend.Legend at 0x15800d8ca30>"
      ]
     },
     "execution_count": 78,
     "metadata": {},
     "output_type": "execute_result"
    },
    {
     "data": {
      "image/png": "[encoded data removed]",
      "text/plain": [
       "<Figure size 432x288 with 1 Axes>"
      ]
     },
     "metadata": {
      "needs_background": "light"
     },
     "output_type": "display_data"
    }
   ],
   "source": [
    "loss = history.history['loss'] \n",
    "validation_loss = history.history['val_loss'] \n",
    "\n",
    "plt.plot(loss, label='Training Set Loss') \n",
    "plt.plot(validation_loss, label='Validation Set Loss') \n",
    "plt.ylabel('Loss') \n",
    "plt.title('Training and Validation Accuracy Across Epochs') \n",
    "plt.legend()"
   ]
  },
  {
   "cell_type": "code",
   "execution_count": 79,
   "id": "a529b339",
   "metadata": {},
   "outputs": [
    {
     "name": "stdout",
     "output_type": "stream",
     "text": [
      "198/198 [==============================] - 1s 2ms/step\n"
     ]
    },
    {
     "data": {
      "text/plain": [
       "array([1, 1, 1, ..., 1, 1, 1])"
      ]
     },
     "execution_count": 79,
     "metadata": {},
     "output_type": "execute_result"
    }
   ],
   "source": [
    "ypred = (model.predict(X_test_s) > 0.5).astype('int32')\n",
    "ypred = ypred[:,0]\n",
    "ypred"
   ]
  },
  {
   "cell_type": "code",
   "execution_count": 80,
   "id": "701d614b",
   "metadata": {},
   "outputs": [
    {
     "data": {
      "image/png": "[encoded data removed]",
      "text/plain": [
       "<Figure size 432x288 with 2 Axes>"
      ]
     },
     "metadata": {
      "needs_background": "light"
     },
     "output_type": "display_data"
    }
   ],
   "source": [
    "confusion_matrix = metrics.confusion_matrix(y_test,ypred)\n",
    "\n",
    "cm_display = metrics.ConfusionMatrixDisplay(confusion_matrix = confusion_matrix, display_labels = [False, True])\n",
    "\n",
    "cm_display.plot()\n",
    "plt.show()"
   ]
  },
  {
   "cell_type": "code",
   "execution_count": 81,
   "id": "d272df6a",
   "metadata": {},
   "outputs": [
    {
     "name": "stdout",
     "output_type": "stream",
     "text": [
      "              precision    recall  f1-score   support\n",
      "\n",
      "           0       0.85      0.73      0.78      1951\n",
      "           1       0.89      0.94      0.91      4360\n",
      "\n",
      "    accuracy                           0.88      6311\n",
      "   macro avg       0.87      0.83      0.85      6311\n",
      "weighted avg       0.87      0.88      0.87      6311\n",
      "\n"
     ]
    }
   ],
   "source": [
    "print(classification_report(y_test,ypred))"
   ]
  },
  {
   "cell_type": "code",
   "execution_count": null,
   "id": "81fd1568",
   "metadata": {},
   "outputs": [],
   "source": []
  },
  {
   "cell_type": "markdown",
   "id": "139db08a",
   "metadata": {},
   "source": [
    "## Random Forests"
   ]
  },
  {
   "cell_type": "code",
   "execution_count": 82,
   "id": "d7ad7e6b",
   "metadata": {},
   "outputs": [
    {
     "data": {
      "text/html": [
       "<style>#sk-container-id-2 {color: black;background-color: white;}#sk-container-id-2 pre{padding: 0;}#sk-container-id-2 div.sk-toggleable {background-color: white;}#sk-container-id-2 label.sk-toggleable__label {cursor: pointer;display: block;width: 100%;margin-bottom: 0;padding: 0.3em;box-sizing: border-box;text-align: center;}#sk-container-id-2 label.sk-toggleable__label-arrow:before {content: \"▸\";float: left;margin-right: 0.25em;color: #696969;}#sk-container-id-2 label.sk-toggleable__label-arrow:hover:before {color: black;}#sk-container-id-2 div.sk-estimator:hover label.sk-toggleable__label-arrow:before {color: black;}#sk-container-id-2 div.sk-toggleable__content {max-height: 0;max-width: 0;overflow: hidden;text-align: left;background-color: #f0f8ff;}#sk-container-id-2 div.sk-toggleable__content pre {margin: 0.2em;color: black;border-radius: 0.25em;background-color: #f0f8ff;}#sk-container-id-2 input.sk-toggleable__control:checked~div.sk-toggleable__content {max-height: 200px;max-width: 100%;overflow: auto;}#sk-container-id-2 input.sk-toggleable__control:checked~label.sk-toggleable__label-arrow:before {content: \"▾\";}#sk-container-id-2 div.sk-estimator input.sk-toggleable__control:checked~label.sk-toggleable__label {background-color: #d4ebff;}#sk-container-id-2 div.sk-label input.sk-toggleable__control:checked~label.sk-toggleable__label {background-color: #d4ebff;}#sk-container-id-2 input.sk-hidden--visually {border: 0;clip: rect(1px 1px 1px 1px);clip: rect(1px, 1px, 1px, 1px);height: 1px;margin: -1px;overflow: hidden;padding: 0;position: absolute;width: 1px;}#sk-container-id-2 div.sk-estimator {font-family: monospace;background-color: #f0f8ff;border: 1px dotted black;border-radius: 0.25em;box-sizing: border-box;margin-bottom: 0.5em;}#sk-container-id-2 div.sk-estimator:hover {background-color: #d4ebff;}#sk-container-id-2 div.sk-parallel-item::after {content: \"\";width: 100%;border-bottom: 1px solid gray;flex-grow: 1;}#sk-container-id-2 div.sk-label:hover label.sk-toggleable__label {background-color: #d4ebff;}#sk-container-id-2 div.sk-serial::before {content: \"\";position: absolute;border-left: 1px solid gray;box-sizing: border-box;top: 0;bottom: 0;left: 50%;z-index: 0;}#sk-container-id-2 div.sk-serial {display: flex;flex-direction: column;align-items: center;background-color: white;padding-right: 0.2em;padding-left: 0.2em;position: relative;}#sk-container-id-2 div.sk-item {position: relative;z-index: 1;}#sk-container-id-2 div.sk-parallel {display: flex;align-items: stretch;justify-content: center;background-color: white;position: relative;}#sk-container-id-2 div.sk-item::before, #sk-container-id-2 div.sk-parallel-item::before {content: \"\";position: absolute;border-left: 1px solid gray;box-sizing: border-box;top: 0;bottom: 0;left: 50%;z-index: -1;}#sk-container-id-2 div.sk-parallel-item {display: flex;flex-direction: column;z-index: 1;position: relative;background-color: white;}#sk-container-id-2 div.sk-parallel-item:first-child::after {align-self: flex-end;width: 50%;}#sk-container-id-2 div.sk-parallel-item:last-child::after {align-self: flex-start;width: 50%;}#sk-container-id-2 div.sk-parallel-item:only-child::after {width: 0;}#sk-container-id-2 div.sk-dashed-wrapped {border: 1px dashed gray;margin: 0 0.4em 0.5em 0.4em;box-sizing: border-box;padding-bottom: 0.4em;background-color: white;}#sk-container-id-2 div.sk-label label {font-family: monospace;font-weight: bold;display: inline-block;line-height: 1.2em;}#sk-container-id-2 div.sk-label-container {text-align: center;}#sk-container-id-2 div.sk-container {/* jupyter's `normalize.less` sets `[hidden] { display: none; }` but bootstrap.min.css set `[hidden] { display: none !important; }` so we also need the `!important` here to be able to override the default hidden behavior on the sphinx rendered scikit-learn.org. See: https://github.com/scikit-learn/scikit-learn/issues/21755 */display: inline-block !important;position: relative;}#sk-container-id-2 div.sk-text-repr-fallback {display: none;}</style><div id=\"sk-container-id-2\" class=\"sk-top-container\"><div class=\"sk-text-repr-fallback\"><pre>RandomForestClassifier()</pre><b>In a Jupyter environment, please rerun this cell to show the HTML representation or trust the notebook. <br />On GitHub, the HTML representation is unable to render, please try loading this page with nbviewer.org.</b></div><div class=\"sk-container\" hidden><div class=\"sk-item\"><div class=\"sk-estimator sk-toggleable\"><input class=\"sk-toggleable__control sk-hidden--visually\" id=\"sk-estimator-id-2\" type=\"checkbox\" checked><label for=\"sk-estimator-id-2\" class=\"sk-toggleable__label sk-toggleable__label-arrow\">RandomForestClassifier</label><div class=\"sk-toggleable__content\"><pre>RandomForestClassifier()</pre></div></div></div></div></div>"
      ],
      "text/plain": [
       "RandomForestClassifier()"
      ]
     },
     "execution_count": 82,
     "metadata": {},
     "output_type": "execute_result"
    }
   ],
   "source": [
    "from sklearn.ensemble import RandomForestClassifier\n",
    "\n",
    "\n",
    "rf = RandomForestClassifier(n_estimators=100)\n",
    "rf.fit(X_train_fs, y_train)"
   ]
  },
  {
   "cell_type": "code",
   "execution_count": 83,
   "id": "c9f09acd",
   "metadata": {},
   "outputs": [],
   "source": [
    "predict = rf.predict(X_test_fs)"
   ]
  },
  {
   "cell_type": "code",
   "execution_count": 84,
   "id": "7a2a44c6",
   "metadata": {},
   "outputs": [
    {
     "name": "stdout",
     "output_type": "stream",
     "text": [
      "              precision    recall  f1-score   support\n",
      "\n",
      "           0       0.82      0.70      0.75      1951\n",
      "           1       0.87      0.93      0.90      4360\n",
      "\n",
      "    accuracy                           0.86      6311\n",
      "   macro avg       0.85      0.81      0.83      6311\n",
      "weighted avg       0.86      0.86      0.86      6311\n",
      "\n"
     ]
    }
   ],
   "source": [
    "print(classification_report(y_test,predict))"
   ]
  },
  {
   "cell_type": "code",
   "execution_count": null,
   "id": "5af3414f",
   "metadata": {},
   "outputs": [],
   "source": []
  },
  {
   "cell_type": "code",
   "execution_count": null,
   "id": "0b18b0d1",
   "metadata": {},
   "outputs": [],
   "source": []
  }
 ],
 "metadata": {
  "kernelspec": {
   "display_name": "Python 3 (ipykernel)",
   "language": "python",
   "name": "python3"
  },
  "language_info": {
   "codemirror_mode": {
    "name": "ipython",
    "version": 3
   },
   "file_extension": ".py",
   "mimetype": "text/x-python",
   "name": "python",
   "nbconvert_exporter": "python",
   "pygments_lexer": "ipython3",
   "version": "3.9.7"
  }
 },
 "nbformat": 4,
 "nbformat_minor": 5
}
